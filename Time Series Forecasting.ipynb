{
 "cells": [
  {
   "cell_type": "markdown",
   "metadata": {},
   "source": [
    "# Time Series Forecasting using NN, LSTM and CNN"
   ]
  },
  {
   "cell_type": "markdown",
   "metadata": {},
   "source": [
    "## 1. Problem Formulation\n",
    "<pre>\n",
    "Time series forecasting is an important area of AI. It is important because there are so many prediction problems that involve a time component. This time component makes time series problems more difficult to handle. In this project, you practice with time series data to predict stock price.</pre>"
   ]
  },
  {
   "cell_type": "code",
   "execution_count": 1,
   "metadata": {},
   "outputs": [],
   "source": [
    "\n",
    "import sys, os, time, warnings\n",
    "import matplotlib.pyplot as plt\n",
    "import numpy as np\n",
    "import seaborn as sns\n",
    "import pandas as pd\n",
    "from sklearn.model_selection import train_test_split\n",
    "from sklearn.preprocessing import StandardScaler\n",
    "import warnings\n",
    "warnings.filterwarnings('ignore')\n",
    "\n",
    "import matplotlib as mpl\n",
    "import matplotlib.pyplot as plt\n",
    "mpl.rc('axes', labelsize=14)\n",
    "mpl.rc('xtick', labelsize=12)\n",
    "mpl.rc('ytick', labelsize=12)\n",
    "\n",
    "# Where to save the figures\n",
    "PROJECT_ROOT_DIR = \".\"\n",
    "#CHAPTER_ID = \"classification\"\n",
    "\n",
    "NOTEBOOK_PATH = os.getcwd()\n",
    "\n",
    "def save_fig(fig_id, tight_layout=True):\n",
    "    path = os.path.join(NOTEBOOK_PATH, fig_id + \".png\")\n",
    "    print(\"Saving figure\", fig_id)\n",
    "    if tight_layout:\n",
    "        plt.tight_layout()\n",
    "    plt.savefig(path, format='png', dpi=300)\n"
   ]
  },
  {
   "cell_type": "markdown",
   "metadata": {},
   "source": [
    "## DataSet \n",
    "\n",
    "This file has seven columns as follows:  Date, Open, High, Low, Close, Adj_Close, Volume.\n",
    "\n",
    "Remove date and adj_close columns first since we do not need them."
   ]
  },
  {
   "cell_type": "code",
   "execution_count": 2,
   "metadata": {},
   "outputs": [],
   "source": [
    "data_df = pd.read_csv(\"CSC215_P2_Stock_Price.csv\")\n"
   ]
  },
  {
   "cell_type": "code",
   "execution_count": 3,
   "metadata": {},
   "outputs": [
    {
     "data": {
      "text/html": [
       "<div>\n",
       "<style scoped>\n",
       "    .dataframe tbody tr th:only-of-type {\n",
       "        vertical-align: middle;\n",
       "    }\n",
       "\n",
       "    .dataframe tbody tr th {\n",
       "        vertical-align: top;\n",
       "    }\n",
       "\n",
       "    .dataframe thead th {\n",
       "        text-align: right;\n",
       "    }\n",
       "</style>\n",
       "<table border=\"1\" class=\"dataframe\">\n",
       "  <thead>\n",
       "    <tr style=\"text-align: right;\">\n",
       "      <th></th>\n",
       "      <th>Date</th>\n",
       "      <th>Open</th>\n",
       "      <th>High</th>\n",
       "      <th>Low</th>\n",
       "      <th>Close</th>\n",
       "      <th>Adj_Close</th>\n",
       "      <th>Volume</th>\n",
       "    </tr>\n",
       "  </thead>\n",
       "  <tbody>\n",
       "    <tr>\n",
       "      <th>740</th>\n",
       "      <td>2003/3/11</td>\n",
       "      <td>6.475000</td>\n",
       "      <td>6.525000</td>\n",
       "      <td>6.462500</td>\n",
       "      <td>6.477500</td>\n",
       "      <td>6.477500</td>\n",
       "      <td>664400</td>\n",
       "    </tr>\n",
       "    <tr>\n",
       "      <th>3834</th>\n",
       "      <td>2015/6/24</td>\n",
       "      <td>72.019997</td>\n",
       "      <td>72.555000</td>\n",
       "      <td>71.394997</td>\n",
       "      <td>71.430000</td>\n",
       "      <td>71.430000</td>\n",
       "      <td>1914200</td>\n",
       "    </tr>\n",
       "    <tr>\n",
       "      <th>4304</th>\n",
       "      <td>2017/5/5</td>\n",
       "      <td>110.599998</td>\n",
       "      <td>110.849998</td>\n",
       "      <td>109.910004</td>\n",
       "      <td>110.580002</td>\n",
       "      <td>110.580002</td>\n",
       "      <td>842900</td>\n",
       "    </tr>\n",
       "    <tr>\n",
       "      <th>1951</th>\n",
       "      <td>2007/12/31</td>\n",
       "      <td>11.500000</td>\n",
       "      <td>11.562500</td>\n",
       "      <td>11.460000</td>\n",
       "      <td>11.497500</td>\n",
       "      <td>11.497500</td>\n",
       "      <td>2214400</td>\n",
       "    </tr>\n",
       "    <tr>\n",
       "      <th>3730</th>\n",
       "      <td>2015/1/26</td>\n",
       "      <td>64.750000</td>\n",
       "      <td>65.190002</td>\n",
       "      <td>64.410004</td>\n",
       "      <td>65.070000</td>\n",
       "      <td>65.070000</td>\n",
       "      <td>1997400</td>\n",
       "    </tr>\n",
       "  </tbody>\n",
       "</table>\n",
       "</div>"
      ],
      "text/plain": [
       "            Date        Open        High         Low       Close   Adj_Close  \\\n",
       "740    2003/3/11    6.475000    6.525000    6.462500    6.477500    6.477500   \n",
       "3834   2015/6/24   72.019997   72.555000   71.394997   71.430000   71.430000   \n",
       "4304    2017/5/5  110.599998  110.849998  109.910004  110.580002  110.580002   \n",
       "1951  2007/12/31   11.500000   11.562500   11.460000   11.497500   11.497500   \n",
       "3730   2015/1/26   64.750000   65.190002   64.410004   65.070000   65.070000   \n",
       "\n",
       "       Volume  \n",
       "740    664400  \n",
       "3834  1914200  \n",
       "4304   842900  \n",
       "1951  2214400  \n",
       "3730  1997400  "
      ]
     },
     "execution_count": 3,
     "metadata": {},
     "output_type": "execute_result"
    }
   ],
   "source": [
    "data_df.sample(5)"
   ]
  },
  {
   "cell_type": "code",
   "execution_count": 4,
   "metadata": {},
   "outputs": [
    {
     "data": {
      "text/plain": [
       "Date          object\n",
       "Open         float64\n",
       "High         float64\n",
       "Low          float64\n",
       "Close        float64\n",
       "Adj_Close    float64\n",
       "Volume         int64\n",
       "dtype: object"
      ]
     },
     "execution_count": 4,
     "metadata": {},
     "output_type": "execute_result"
    }
   ],
   "source": [
    "data_df.dtypes"
   ]
  },
  {
   "cell_type": "code",
   "execution_count": 5,
   "metadata": {},
   "outputs": [],
   "source": [
    "data_df=data_df.drop(['Date','Adj_Close'],axis=1)"
   ]
  },
  {
   "cell_type": "markdown",
   "metadata": {},
   "source": [
    "## Missing Values\n",
    "\n",
    "No missing values in the dataset"
   ]
  },
  {
   "cell_type": "code",
   "execution_count": 6,
   "metadata": {},
   "outputs": [
    {
     "name": "stdout",
     "output_type": "stream",
     "text": [
      "Number of missing values:\n"
     ]
    },
    {
     "data": {
      "text/plain": [
       "[]"
      ]
     },
     "execution_count": 6,
     "metadata": {},
     "output_type": "execute_result"
    }
   ],
   "source": [
    "print('Number of missing values:')\n",
    "[(x, y) for x, y in zip(data_df.isna().sum(), data_df.isna().sum().index) if x > 0]"
   ]
  },
  {
   "cell_type": "code",
   "execution_count": 7,
   "metadata": {},
   "outputs": [],
   "source": [
    "data_df = data_df.drop_duplicates(keep='first', inplace=False) "
   ]
  },
  {
   "cell_type": "code",
   "execution_count": 8,
   "metadata": {},
   "outputs": [],
   "source": [
    "dep_var = ['Close']\n",
    "\n",
    "discrete_vars = ['Volume']\n",
    "\n",
    "continuous_vars = ['Open','High','Low']"
   ]
  },
  {
   "cell_type": "code",
   "execution_count": 9,
   "metadata": {},
   "outputs": [
    {
     "data": {
      "text/plain": [
       "<matplotlib.axes._subplots.AxesSubplot at 0x7fa1c7f3bca0>"
      ]
     },
     "execution_count": 9,
     "metadata": {},
     "output_type": "execute_result"
    },
    {
     "data": {
      "image/png": "[encoded data removed]",
      "text/plain": [
       "<Figure size 432x288 with 1 Axes>"
      ]
     },
     "metadata": {
      "needs_background": "light"
     },
     "output_type": "display_data"
    }
   ],
   "source": [
    "sns.distplot(data_df['Close'])"
   ]
  },
  {
   "cell_type": "code",
   "execution_count": 10,
   "metadata": {},
   "outputs": [
    {
     "data": {
      "image/png": "[encoded data removed]",
      "text/plain": [
       "<Figure size 720x360 with 4 Axes>"
      ]
     },
     "metadata": {
      "needs_background": "light"
     },
     "output_type": "display_data"
    }
   ],
   "source": [
    "data_df.loc[:, discrete_vars + continuous_vars].hist(bins=50, figsize=(10,5))\n",
    "plt.show()"
   ]
  },
  {
   "cell_type": "code",
   "execution_count": null,
   "metadata": {},
   "outputs": [],
   "source": []
  },
  {
   "cell_type": "markdown",
   "metadata": {},
   "source": [
    "### Correlation Analysis"
   ]
  },
  {
   "cell_type": "code",
   "execution_count": 11,
   "metadata": {},
   "outputs": [
    {
     "data": {
      "text/html": [
       "<div>\n",
       "<style scoped>\n",
       "    .dataframe tbody tr th:only-of-type {\n",
       "        vertical-align: middle;\n",
       "    }\n",
       "\n",
       "    .dataframe tbody tr th {\n",
       "        vertical-align: top;\n",
       "    }\n",
       "\n",
       "    .dataframe thead th {\n",
       "        text-align: right;\n",
       "    }\n",
       "</style>\n",
       "<table border=\"1\" class=\"dataframe\">\n",
       "  <thead>\n",
       "    <tr style=\"text-align: right;\">\n",
       "      <th></th>\n",
       "      <th>Close</th>\n",
       "      <th>Open</th>\n",
       "      <th>High</th>\n",
       "      <th>Low</th>\n",
       "      <th>Volume</th>\n",
       "    </tr>\n",
       "  </thead>\n",
       "  <tbody>\n",
       "    <tr>\n",
       "      <th>Close</th>\n",
       "      <td>1.000000</td>\n",
       "      <td>0.999806</td>\n",
       "      <td>0.999909</td>\n",
       "      <td>0.999912</td>\n",
       "      <td>0.047917</td>\n",
       "    </tr>\n",
       "    <tr>\n",
       "      <th>Open</th>\n",
       "      <td>0.999806</td>\n",
       "      <td>1.000000</td>\n",
       "      <td>0.999907</td>\n",
       "      <td>0.999899</td>\n",
       "      <td>0.048770</td>\n",
       "    </tr>\n",
       "    <tr>\n",
       "      <th>High</th>\n",
       "      <td>0.999909</td>\n",
       "      <td>0.999907</td>\n",
       "      <td>1.000000</td>\n",
       "      <td>0.999874</td>\n",
       "      <td>0.051444</td>\n",
       "    </tr>\n",
       "    <tr>\n",
       "      <th>Low</th>\n",
       "      <td>0.999912</td>\n",
       "      <td>0.999899</td>\n",
       "      <td>0.999874</td>\n",
       "      <td>1.000000</td>\n",
       "      <td>0.045101</td>\n",
       "    </tr>\n",
       "    <tr>\n",
       "      <th>Volume</th>\n",
       "      <td>0.047917</td>\n",
       "      <td>0.048770</td>\n",
       "      <td>0.051444</td>\n",
       "      <td>0.045101</td>\n",
       "      <td>1.000000</td>\n",
       "    </tr>\n",
       "  </tbody>\n",
       "</table>\n",
       "</div>"
      ],
      "text/plain": [
       "           Close      Open      High       Low    Volume\n",
       "Close   1.000000  0.999806  0.999909  0.999912  0.047917\n",
       "Open    0.999806  1.000000  0.999907  0.999899  0.048770\n",
       "High    0.999909  0.999907  1.000000  0.999874  0.051444\n",
       "Low     0.999912  0.999899  0.999874  1.000000  0.045101\n",
       "Volume  0.047917  0.048770  0.051444  0.045101  1.000000"
      ]
     },
     "execution_count": 11,
     "metadata": {},
     "output_type": "execute_result"
    }
   ],
   "source": [
    "corr_matrix = data_df.loc[:, ['Close'] + continuous_vars + discrete_vars].corr(method='pearson')\n",
    "corr_matrix['Close'].sort_values(ascending=False)\n",
    "corr_matrix"
   ]
  },
  {
   "cell_type": "code",
   "execution_count": 12,
   "metadata": {},
   "outputs": [],
   "source": [
    "data_close = data_df['Close'].tolist()"
   ]
  },
  {
   "cell_type": "code",
   "execution_count": 13,
   "metadata": {},
   "outputs": [
    {
     "data": {
      "text/plain": [
       "[4.125,\n",
       " 4.015625,\n",
       " 4.0,\n",
       " 3.84375,\n",
       " 3.390625,\n",
       " 3.4375,\n",
       " 3.5,\n",
       " 3.484375,\n",
       " 3.578125,\n",
       " 3.609375,\n",
       " 3.640625,\n",
       " 3.578125,\n",
       " 3.578125,\n",
       " 3.613275,\n",
       " 3.609375,\n",
       " 3.5625,\n",
       " 3.515625,\n",
       " 3.59375,\n",
       " 3.65625,\n",
       " 3.5625,\n",
       " 3.765625,\n",
       " 3.828125,\n",
       " 3.703125,\n",
       " 3.75,\n",
       " 3.6875,\n",
       " 3.640625,\n",
       " 3.5625,\n",
       " 3.6875,\n",
       " 3.78125,\n",
       " 3.8125,\n",
       " 3.75,\n",
       " 3.796875,\n",
       " 3.734375,\n",
       " 3.921875,\n",
       " 4.09375,\n",
       " 4.125,\n",
       " 4.0,\n",
       " 3.890625,\n",
       " 3.828125,\n",
       " 3.890625,\n",
       " 3.90625,\n",
       " 4.109375,\n",
       " 4.328125,\n",
       " 4.5,\n",
       " 4.9375,\n",
       " 5.078125,\n",
       " 4.96875,\n",
       " 4.796875,\n",
       " 4.53125,\n",
       " 4.28125,\n",
       " 4.625,\n",
       " 4.625,\n",
       " 4.625,\n",
       " 4.65625,\n",
       " 4.59375,\n",
       " 4.609375,\n",
       " 4.578125,\n",
       " 4.5,\n",
       " 4.53125,\n",
       " 4.453125,\n",
       " 4.75,\n",
       " 4.859375,\n",
       " 4.96875,\n",
       " 4.96875,\n",
       " 4.78125,\n",
       " 5.109375,\n",
       " 5.0625,\n",
       " 4.6289,\n",
       " 5.140625,\n",
       " 4.921875,\n",
       " 5.0625,\n",
       " 5.125,\n",
       " 5.3125,\n",
       " 5.5,\n",
       " 5.53125,\n",
       " 5.8125,\n",
       " 5.734375,\n",
       " 5.703125,\n",
       " 5.96875,\n",
       " 6.046875,\n",
       " 6.015625,\n",
       " 6.21875,\n",
       " 6.1875,\n",
       " 6.125,\n",
       " 5.984375,\n",
       " 5.875,\n",
       " 5.765625,\n",
       " 5.453125,\n",
       " 5.65625,\n",
       " 5.703125,\n",
       " 5.78125,\n",
       " 5.75,\n",
       " 5.65625,\n",
       " 5.625,\n",
       " 5.53125,\n",
       " 5.421875,\n",
       " 5.609375,\n",
       " 5.640625,\n",
       " 5.703125,\n",
       " 5.71875,\n",
       " 5.6875,\n",
       " 5.625,\n",
       " 5.796875,\n",
       " 5.71875,\n",
       " 5.71875,\n",
       " 5.6875,\n",
       " 5.671875,\n",
       " 5.734375,\n",
       " 5.984375,\n",
       " 6.09375,\n",
       " 6.5625,\n",
       " 5.65625,\n",
       " 5.65625,\n",
       " 5.609375,\n",
       " 5.65625,\n",
       " 5.5625,\n",
       " 5.578125,\n",
       " 5.5625,\n",
       " 5.25,\n",
       " 5.34375,\n",
       " 5.21875,\n",
       " 4.9375,\n",
       " 4.96875,\n",
       " 5.046875,\n",
       " 4.96875,\n",
       " 5.0625,\n",
       " 5.109375,\n",
       " 5.15625,\n",
       " 5.125,\n",
       " 5.25,\n",
       " 5.453125,\n",
       " 5.046875,\n",
       " 5.03125,\n",
       " 4.984375,\n",
       " 5.140625,\n",
       " 5.28125,\n",
       " 5.171875,\n",
       " 5.15625,\n",
       " 5.203125,\n",
       " 5.265625,\n",
       " 5.59375,\n",
       " 5.515625,\n",
       " 5.6875,\n",
       " 5.734375,\n",
       " 5.859375,\n",
       " 5.8125,\n",
       " 5.921875,\n",
       " 6.046875,\n",
       " 5.96875,\n",
       " 5.828125,\n",
       " 5.75,\n",
       " 5.734375,\n",
       " 3.359375,\n",
       " 3.25,\n",
       " 3.546875,\n",
       " 3.796875,\n",
       " 3.75,\n",
       " 3.8125,\n",
       " 3.859375,\n",
       " 3.796875,\n",
       " 3.671875,\n",
       " 3.578125,\n",
       " 3.484375,\n",
       " 3.546875,\n",
       " 3.5625,\n",
       " 3.546875,\n",
       " 3.4375,\n",
       " 3.734375,\n",
       " 3.90625,\n",
       " 4.0,\n",
       " 3.984375,\n",
       " 4.015625,\n",
       " 4.03125,\n",
       " 4.015625,\n",
       " 4.109375,\n",
       " 3.96875,\n",
       " 4.078125,\n",
       " 3.96875,\n",
       " 4.015625,\n",
       " 4.21875,\n",
       " 4.140625,\n",
       " 4.0,\n",
       " 3.953125,\n",
       " 3.765625,\n",
       " 3.953125,\n",
       " 3.9375,\n",
       " 4.203125,\n",
       " 4.125,\n",
       " 4.140625,\n",
       " 4.1875,\n",
       " 4.15625,\n",
       " 4.203125,\n",
       " 4.34375,\n",
       " 4.4375,\n",
       " 4.34375,\n",
       " 4.578125,\n",
       " 4.5625,\n",
       " 4.21875,\n",
       " 4.25,\n",
       " 4.359375,\n",
       " 4.5,\n",
       " 4.453125,\n",
       " 4.484375,\n",
       " 4.5,\n",
       " 4.484375,\n",
       " 4.5625,\n",
       " 4.390625,\n",
       " 4.46875,\n",
       " 4.4375,\n",
       " 4.5,\n",
       " 4.46875,\n",
       " 4.34375,\n",
       " 4.5675,\n",
       " 4.6,\n",
       " 4.5625,\n",
       " 4.6125,\n",
       " 4.625,\n",
       " 4.485,\n",
       " 4.3175,\n",
       " 4.625,\n",
       " 4.735,\n",
       " 4.8625,\n",
       " 5.375,\n",
       " 5.035,\n",
       " 5.05,\n",
       " 5.25,\n",
       " 5.1575,\n",
       " 5.19,\n",
       " 5.2,\n",
       " 5.32,\n",
       " 5.15,\n",
       " 5.25,\n",
       " 5.4375,\n",
       " 5.2375,\n",
       " 5.3075,\n",
       " 5.0625,\n",
       " 4.995,\n",
       " 4.995,\n",
       " 4.775,\n",
       " 4.8375,\n",
       " 4.785,\n",
       " 4.7875,\n",
       " 4.9625,\n",
       " 4.965,\n",
       " 4.88,\n",
       " 4.85,\n",
       " 4.8,\n",
       " 4.66,\n",
       " 4.62,\n",
       " 4.5,\n",
       " 4.45,\n",
       " 4.475,\n",
       " 4.6175,\n",
       " 4.485,\n",
       " 4.8775,\n",
       " 4.9,\n",
       " 4.8525,\n",
       " 4.6,\n",
       " 4.7125,\n",
       " 4.775,\n",
       " 4.875,\n",
       " 4.8375,\n",
       " 4.7825,\n",
       " 4.6025,\n",
       " 4.62,\n",
       " 4.6625,\n",
       " 4.775,\n",
       " 4.75,\n",
       " 5.0,\n",
       " 4.995,\n",
       " 5.0,\n",
       " 4.9875,\n",
       " 4.94,\n",
       " 4.91,\n",
       " 5.525,\n",
       " 5.4125,\n",
       " 5.6,\n",
       " 5.525,\n",
       " 5.5475,\n",
       " 5.7625,\n",
       " 5.615,\n",
       " 5.6975,\n",
       " 5.6275,\n",
       " 5.6225,\n",
       " 5.575,\n",
       " 5.7425,\n",
       " 5.8375,\n",
       " 5.94,\n",
       " 6.0,\n",
       " 5.955,\n",
       " 6.0,\n",
       " 5.7625,\n",
       " 5.8825,\n",
       " 5.75,\n",
       " 5.645,\n",
       " 5.595,\n",
       " 5.5,\n",
       " 5.7925,\n",
       " 5.965,\n",
       " 6.0175,\n",
       " 6.1625,\n",
       " 6.25,\n",
       " 6.2925,\n",
       " 6.2625,\n",
       " 6.2,\n",
       " 6.115,\n",
       " 6.095,\n",
       " 5.995,\n",
       " 5.97,\n",
       " 6.0075,\n",
       " 6.03,\n",
       " 6.135,\n",
       " 6.165,\n",
       " 6.175,\n",
       " 6.1725,\n",
       " 6.27,\n",
       " 6.37,\n",
       " 6.375,\n",
       " 6.59,\n",
       " 6.575,\n",
       " 6.5625,\n",
       " 6.535,\n",
       " 6.37,\n",
       " 6.6075,\n",
       " 6.655,\n",
       " 6.66,\n",
       " 6.74,\n",
       " 6.945,\n",
       " 6.535,\n",
       " 6.57,\n",
       " 6.4675,\n",
       " 6.0125,\n",
       " 5.7875,\n",
       " 5.76,\n",
       " 5.97,\n",
       " 5.8625,\n",
       " 6.0275,\n",
       " 6.25,\n",
       " 6.2125,\n",
       " 6.195,\n",
       " 6.225,\n",
       " 6.0225,\n",
       " 5.9875,\n",
       " 6.07,\n",
       " 6.095,\n",
       " 6.0875,\n",
       " 5.995,\n",
       " 5.9625,\n",
       " 6.0375,\n",
       " 6.265,\n",
       " 6.3075,\n",
       " 6.245,\n",
       " 6.3625,\n",
       " 6.505,\n",
       " 6.32,\n",
       " 6.3875,\n",
       " 6.4975,\n",
       " 6.4375,\n",
       " 6.4125,\n",
       " 6.285,\n",
       " 6.525,\n",
       " 6.57,\n",
       " 6.5725,\n",
       " 6.5,\n",
       " 6.505,\n",
       " 6.5,\n",
       " 6.515,\n",
       " 6.4125,\n",
       " 6.205,\n",
       " 5.9375,\n",
       " 5.815,\n",
       " 5.5075,\n",
       " 5.4125,\n",
       " 5.25,\n",
       " 5.28,\n",
       " 5.5125,\n",
       " 5.58,\n",
       " 5.6,\n",
       " 5.8175,\n",
       " 5.965,\n",
       " 5.8125,\n",
       " 6.0325,\n",
       " 6.0625,\n",
       " 6.1025,\n",
       " 6.0375,\n",
       " 6.075,\n",
       " 6.175,\n",
       " 6.1225,\n",
       " 6.0225,\n",
       " 6.175,\n",
       " 6.1625,\n",
       " 6.27,\n",
       " 6.565,\n",
       " 6.505,\n",
       " 6.5875,\n",
       " 6.575,\n",
       " 6.725,\n",
       " 6.49,\n",
       " 6.1625,\n",
       " 6.275,\n",
       " 6.35,\n",
       " 6.4875,\n",
       " 6.555,\n",
       " 6.47,\n",
       " 6.425,\n",
       " 6.2625,\n",
       " 6.2625,\n",
       " 6.315,\n",
       " 6.35,\n",
       " 6.23,\n",
       " 6.07,\n",
       " 5.9225,\n",
       " 5.8525,\n",
       " 5.8375,\n",
       " 6.1,\n",
       " 6.25,\n",
       " 6.3,\n",
       " 6.425,\n",
       " 6.225,\n",
       " 6.235,\n",
       " 6.4325,\n",
       " 6.3125,\n",
       " 6.1175,\n",
       " 6.3875,\n",
       " 6.355,\n",
       " 6.405,\n",
       " 6.4575,\n",
       " 6.17,\n",
       " 6.5125,\n",
       " 6.62,\n",
       " 6.725,\n",
       " 6.6725,\n",
       " 7.1,\n",
       " 7.115,\n",
       " 6.92,\n",
       " 6.8875,\n",
       " 6.86,\n",
       " 7.155,\n",
       " 7.1375,\n",
       " 6.9025,\n",
       " 7.19,\n",
       " 6.9075,\n",
       " 6.85,\n",
       " 6.7625,\n",
       " 6.8375,\n",
       " 6.8275,\n",
       " 6.825,\n",
       " 6.75,\n",
       " 6.7,\n",
       " 6.46,\n",
       " 6.5125,\n",
       " 6.625,\n",
       " 6.5075,\n",
       " 6.5075,\n",
       " 6.5,\n",
       " 6.5425,\n",
       " 6.6875,\n",
       " 6.66,\n",
       " 6.7525,\n",
       " 6.8425,\n",
       " 6.7375,\n",
       " 6.8375,\n",
       " 6.7325,\n",
       " 6.885,\n",
       " 6.4125,\n",
       " 6.365,\n",
       " 7.0,\n",
       " 7.0975,\n",
       " 7.25,\n",
       " 7.3825,\n",
       " 7.0,\n",
       " 7.075,\n",
       " 7.1,\n",
       " 6.9125,\n",
       " 6.75,\n",
       " 7.2125,\n",
       " 6.85,\n",
       " 7.245,\n",
       " 6.8875,\n",
       " 6.91,\n",
       " 7.015,\n",
       " 7.1325,\n",
       " 6.9375,\n",
       " 6.8575,\n",
       " 6.9275,\n",
       " 7.0325,\n",
       " 6.9625,\n",
       " 6.955,\n",
       " 6.7675,\n",
       " 7.025,\n",
       " 6.925,\n",
       " 6.935,\n",
       " 6.935,\n",
       " 6.975,\n",
       " 7.0,\n",
       " 6.8975,\n",
       " 7.0,\n",
       " 6.9125,\n",
       " 6.8,\n",
       " 7.03,\n",
       " 6.805,\n",
       " 6.9875,\n",
       " 6.9,\n",
       " 6.7175,\n",
       " 6.735,\n",
       " 6.805,\n",
       " 6.675,\n",
       " 6.655,\n",
       " 6.8525,\n",
       " 6.765,\n",
       " 6.7625,\n",
       " 6.9675,\n",
       " 6.7475,\n",
       " 6.9975,\n",
       " 6.725,\n",
       " 6.8375,\n",
       " 6.7,\n",
       " 6.7625,\n",
       " 6.7025,\n",
       " 6.1,\n",
       " 6.25,\n",
       " 6.285,\n",
       " 6.2,\n",
       " 6.28,\n",
       " 6.4375,\n",
       " 6.55,\n",
       " 6.5775,\n",
       " 6.3825,\n",
       " 6.5025,\n",
       " 6.4425,\n",
       " 6.28,\n",
       " 6.195,\n",
       " 6.1225,\n",
       " 6.1025,\n",
       " 6.37,\n",
       " 6.0825,\n",
       " 6.25,\n",
       " 5.945,\n",
       " 6.0625,\n",
       " 5.9375,\n",
       " 6.0475,\n",
       " 5.95,\n",
       " 6.065,\n",
       " 5.8975,\n",
       " 6.13,\n",
       " 5.955,\n",
       " 5.7925,\n",
       " 5.8125,\n",
       " 5.845,\n",
       " 5.6875,\n",
       " 5.625,\n",
       " 5.95,\n",
       " 5.7125,\n",
       " 5.825,\n",
       " 5.8675,\n",
       " 6.035,\n",
       " 6.1325,\n",
       " 6.2125,\n",
       " 5.9875,\n",
       " 6.0075,\n",
       " 6.0,\n",
       " 5.785,\n",
       " 5.795,\n",
       " 5.6925,\n",
       " 5.7175,\n",
       " 5.8,\n",
       " 5.45,\n",
       " 5.2125,\n",
       " 5.4875,\n",
       " 5.45,\n",
       " 5.39,\n",
       " 5.3375,\n",
       " 5.005,\n",
       " 4.91,\n",
       " 5.1925,\n",
       " 5.0375,\n",
       " 5.255,\n",
       " 5.425,\n",
       " 5.25,\n",
       " 5.0625,\n",
       " 4.9475,\n",
       " 4.6425,\n",
       " 5.475,\n",
       " 5.8925,\n",
       " 5.88,\n",
       " 5.975,\n",
       " 6.0125,\n",
       " 6.085,\n",
       " 6.125,\n",
       " 5.9925,\n",
       " 5.75,\n",
       " 6.005,\n",
       " 6.1025,\n",
       " 6.2675,\n",
       " 6.3325,\n",
       " 6.2,\n",
       " 6.125,\n",
       " 6.325,\n",
       " 6.2475,\n",
       " 6.2625,\n",
       " 6.3125,\n",
       " 6.3375,\n",
       " 6.365,\n",
       " 6.32,\n",
       " 6.2775,\n",
       " 6.2625,\n",
       " 6.215,\n",
       " 6.195,\n",
       " 6.235,\n",
       " 6.155,\n",
       " 5.9825,\n",
       " 6.075,\n",
       " 6.025,\n",
       " 6.1125,\n",
       " 6.2075,\n",
       " 6.2,\n",
       " 6.225,\n",
       " 6.19,\n",
       " 6.19,\n",
       " 6.18,\n",
       " 6.0925,\n",
       " 6.155,\n",
       " 6.15,\n",
       " 6.2375,\n",
       " 6.205,\n",
       " 6.1825,\n",
       " 6.25,\n",
       " 6.2975,\n",
       " 6.3025,\n",
       " 6.3975,\n",
       " 6.375,\n",
       " 6.325,\n",
       " 6.4,\n",
       " 6.4625,\n",
       " 6.4375,\n",
       " 6.425,\n",
       " 6.25,\n",
       " 6.1875,\n",
       " 6.225,\n",
       " 6.2375,\n",
       " 6.1725,\n",
       " 6.1925,\n",
       " 6.1975,\n",
       " 6.1775,\n",
       " 6.09,\n",
       " 5.9725,\n",
       " 6.35,\n",
       " 6.505,\n",
       " 6.5125,\n",
       " 6.525,\n",
       " 6.425,\n",
       " 6.375,\n",
       " 6.4225,\n",
       " 6.4125,\n",
       " 6.5025,\n",
       " 6.4875,\n",
       " 6.4875,\n",
       " 6.415,\n",
       " 6.32,\n",
       " 6.33,\n",
       " 6.41,\n",
       " 6.6125,\n",
       " 6.635,\n",
       " 6.8275,\n",
       " 6.7675,\n",
       " 6.7625,\n",
       " 6.7825,\n",
       " 6.85,\n",
       " 6.8275,\n",
       " 6.75,\n",
       " 6.71,\n",
       " 6.59,\n",
       " 6.58,\n",
       " 6.4,\n",
       " 6.375,\n",
       " 6.4375,\n",
       " 6.475,\n",
       " 6.5125,\n",
       " 6.495,\n",
       " 6.4525,\n",
       " 6.555,\n",
       " 6.5125,\n",
       " 6.4125,\n",
       " 6.545,\n",
       " 6.44,\n",
       " 6.4825,\n",
       " 6.55,\n",
       " 6.535,\n",
       " 6.5275,\n",
       " 6.5625,\n",
       " 6.515,\n",
       " 6.4775,\n",
       " 6.355,\n",
       " 6.3675,\n",
       " 6.395,\n",
       " 6.4,\n",
       " 6.3525,\n",
       " 6.2975,\n",
       " 6.3875,\n",
       " 6.3425,\n",
       " 6.37,\n",
       " 6.3875,\n",
       " 6.39,\n",
       " 6.5,\n",
       " 6.5025,\n",
       " 6.425,\n",
       " 6.39,\n",
       " 6.5525,\n",
       " 6.5675,\n",
       " 6.4175,\n",
       " 6.2275,\n",
       " 6.295,\n",
       " 6.2825,\n",
       " 6.11,\n",
       " 6.3775,\n",
       " 6.1325,\n",
       " 6.4825,\n",
       " 6.3875,\n",
       " 6.3725,\n",
       " 6.385,\n",
       " 6.3625,\n",
       " 6.4275,\n",
       " 6.34,\n",
       " 6.1925,\n",
       " 6.295,\n",
       " 6.4375,\n",
       " 6.39,\n",
       " 6.465,\n",
       " 6.5125,\n",
       " 6.385,\n",
       " 6.5125,\n",
       " 6.525,\n",
       " 6.615,\n",
       " 6.6525,\n",
       " 6.63,\n",
       " 6.63,\n",
       " 6.6425,\n",
       " 6.5425,\n",
       " 6.6125,\n",
       " 6.51,\n",
       " 6.4775,\n",
       " 6.3725,\n",
       " 6.535,\n",
       " 6.5475,\n",
       " 6.675,\n",
       " 6.5475,\n",
       " 6.6325,\n",
       " 6.6725,\n",
       " 6.8725,\n",
       " 6.7125,\n",
       " 6.8525,\n",
       " 6.755,\n",
       " 6.7375,\n",
       " 6.775,\n",
       " 6.85,\n",
       " 6.935,\n",
       " 6.97,\n",
       " 6.905,\n",
       " 6.805,\n",
       " 6.775,\n",
       " 6.84,\n",
       " 6.77,\n",
       " 6.8525,\n",
       " 6.83,\n",
       " 6.9475,\n",
       " 6.95,\n",
       " 6.8125,\n",
       " 6.8225,\n",
       " 6.825,\n",
       " 6.7475,\n",
       " 7.2125,\n",
       " 7.2125,\n",
       " 7.185,\n",
       " 7.2075,\n",
       " 7.175,\n",
       " 7.2175,\n",
       " 7.1375,\n",
       " 7.1825,\n",
       " 7.1925,\n",
       " 7.2975,\n",
       " 7.4175,\n",
       " 7.43,\n",
       " 7.395,\n",
       " 7.645,\n",
       " 7.6075,\n",
       " 7.6,\n",
       " 7.6625,\n",
       " 7.6775,\n",
       " 7.6075,\n",
       " 7.545,\n",
       " 7.6375,\n",
       " 7.68,\n",
       " 7.595,\n",
       " 7.5625,\n",
       " 7.31,\n",
       " 7.465,\n",
       " 7.58,\n",
       " 7.5275,\n",
       " 7.5025,\n",
       " 7.55,\n",
       " 7.655,\n",
       " 7.5975,\n",
       " 7.48,\n",
       " 7.595,\n",
       " 7.775,\n",
       " 7.9325,\n",
       " 7.815,\n",
       " 8.0225,\n",
       " 8.025,\n",
       " 8.1125,\n",
       " 8.1175,\n",
       " 7.9425,\n",
       " 7.7025,\n",
       " 7.7825,\n",
       " 7.7775,\n",
       " 7.8425,\n",
       " 8.01,\n",
       " 8.035,\n",
       " 7.9925,\n",
       " 8.13,\n",
       " 8.02,\n",
       " 8.0325,\n",
       " 7.9725,\n",
       " 8.09,\n",
       " 8.015,\n",
       " 8.1125,\n",
       " 8.075,\n",
       " 8.09,\n",
       " 8.0375,\n",
       " 7.975,\n",
       " 8.035,\n",
       " 7.845,\n",
       " 7.9975,\n",
       " 6.875,\n",
       " 6.7925,\n",
       " 6.8125,\n",
       " 6.7275,\n",
       " 6.84,\n",
       " 6.9025,\n",
       " 7.06,\n",
       " 6.84,\n",
       " 6.7475,\n",
       " 6.6175,\n",
       " 6.54,\n",
       " 6.6275,\n",
       " 6.725,\n",
       " 6.8425,\n",
       " 7.055,\n",
       " 7.17,\n",
       " 7.19,\n",
       " 7.255,\n",
       " 7.275,\n",
       " 7.2825,\n",
       " 7.225,\n",
       " 7.2175,\n",
       " 7.09,\n",
       " 7.05,\n",
       " 6.9975,\n",
       " 6.9575,\n",
       " 7.0075,\n",
       " 7.11,\n",
       " 7.1125,\n",
       " 7.0275,\n",
       " 7.1725,\n",
       " 7.1225,\n",
       " 7.0975,\n",
       " 7.1,\n",
       " 6.9975,\n",
       " 7.05,\n",
       " 6.935,\n",
       " 6.8825,\n",
       " 6.825,\n",
       " 6.8375,\n",
       " 6.8725,\n",
       " 6.85,\n",
       " 6.8175,\n",
       " 6.895,\n",
       " 6.7625,\n",
       " 6.785,\n",
       " 6.7425,\n",
       " 6.785,\n",
       " 6.77,\n",
       " 6.9,\n",
       " 6.9725,\n",
       " 6.9575,\n",
       " 6.9825,\n",
       " 7.0075,\n",
       " 7.36,\n",
       " 7.37,\n",
       " 7.3325,\n",
       " 7.2725,\n",
       " 7.25,\n",
       " 7.355,\n",
       " 7.4375,\n",
       " 7.3625,\n",
       " 7.305,\n",
       " 6.875,\n",
       " 6.905,\n",
       " 6.935,\n",
       " 7.1475,\n",
       " 7.2125,\n",
       " 7.245,\n",
       " 7.3375,\n",
       " 7.25,\n",
       " 7.25,\n",
       " 7.27,\n",
       " 7.1575,\n",
       " 7.185,\n",
       " 7.26,\n",
       " 7.16,\n",
       " 7.0875,\n",
       " 7.145,\n",
       " 7.1725,\n",
       " 7.3025,\n",
       " 7.1175,\n",
       " 7.1375,\n",
       " 7.25,\n",
       " 7.35,\n",
       " 7.4125,\n",
       " 7.4275,\n",
       " 7.52,\n",
       " 7.47,\n",
       " 7.4825,\n",
       " 7.53,\n",
       " 7.7675,\n",
       " 7.6725,\n",
       " 7.6525,\n",
       " 7.605,\n",
       " 7.46,\n",
       " 7.4925,\n",
       " 7.3425,\n",
       " 7.35,\n",
       " 7.5125,\n",
       " 7.4975,\n",
       " 7.4825,\n",
       " 7.3125,\n",
       " 7.37,\n",
       " 7.455,\n",
       " 7.41,\n",
       " 7.355,\n",
       " 7.4,\n",
       " 7.42,\n",
       " 7.4725,\n",
       " 7.4975,\n",
       " 7.5875,\n",
       " 7.52,\n",
       " 7.485,\n",
       " 7.43,\n",
       " 7.4025,\n",
       " 7.515,\n",
       " 7.53,\n",
       " 7.52,\n",
       " 7.5375,\n",
       " 7.5925,\n",
       " 7.9175,\n",
       " 7.9475,\n",
       " 8.2675,\n",
       " 8.25,\n",
       " 8.4925,\n",
       " 8.4325,\n",
       " 8.3875,\n",
       " 8.4175,\n",
       " 8.3175,\n",
       " 8.4275,\n",
       " 8.4375,\n",
       " 8.7075,\n",
       " 8.88,\n",
       " 8.4675,\n",
       " 8.3925,\n",
       " 8.25,\n",
       " 8.32,\n",
       " 8.5125,\n",
       " 8.5375,\n",
       " 8.2375,\n",
       " 8.3975,\n",
       " 8.32,\n",
       " 8.3025,\n",
       " 8.2575,\n",
       " 8.2325,\n",
       " 8.095,\n",
       " 7.9975,\n",
       " 7.9425,\n",
       " 8.055,\n",
       " 8.0925,\n",
       " 8.05,\n",
       " 8.2,\n",
       " 8.2,\n",
       " 8.2,\n",
       " 8.1775,\n",
       " 8.0725,\n",
       " 7.975,\n",
       " 7.85,\n",
       " 7.775,\n",
       " 7.6,\n",
       " 7.645,\n",
       " 7.675,\n",
       " 7.7125,\n",
       " 7.8825,\n",
       " 7.79,\n",
       " 7.69,\n",
       " ...]"
      ]
     },
     "execution_count": 13,
     "metadata": {},
     "output_type": "execute_result"
    }
   ],
   "source": [
    "data_close"
   ]
  },
  {
   "cell_type": "code",
   "execution_count": 14,
   "metadata": {},
   "outputs": [],
   "source": [
    "def encode_numeric_zscore(df, name, mean=None, sd=None):\n",
    "    if mean is None:\n",
    "        mean = df[name].mean()\n",
    "\n",
    "    if sd is None:\n",
    "        sd = df[name].std()\n",
    "\n",
    "    df[name] = (df[name] - mean) / sd"
   ]
  },
  {
   "cell_type": "code",
   "execution_count": 15,
   "metadata": {},
   "outputs": [],
   "source": [
    "\n",
    "# encode_numeric_zscore(data_df,'Open')\n",
    "# encode_numeric_zscore(data_df,'High')\n",
    "# encode_numeric_zscore(data_df,'Low')\n",
    "# encode_numeric_zscore(data_df,'Close')\n",
    "# #encode_numeric_zscore(dataFrame,'Adj Close')\n",
    "# encode_numeric_zscore(data_df,'Volume')"
   ]
  },
  {
   "cell_type": "code",
   "execution_count": 16,
   "metadata": {},
   "outputs": [
    {
     "data": {
      "text/html": [
       "<div>\n",
       "<style scoped>\n",
       "    .dataframe tbody tr th:only-of-type {\n",
       "        vertical-align: middle;\n",
       "    }\n",
       "\n",
       "    .dataframe tbody tr th {\n",
       "        vertical-align: top;\n",
       "    }\n",
       "\n",
       "    .dataframe thead th {\n",
       "        text-align: right;\n",
       "    }\n",
       "</style>\n",
       "<table border=\"1\" class=\"dataframe\">\n",
       "  <thead>\n",
       "    <tr style=\"text-align: right;\">\n",
       "      <th></th>\n",
       "      <th>Open</th>\n",
       "      <th>High</th>\n",
       "      <th>Low</th>\n",
       "      <th>Close</th>\n",
       "      <th>Volume</th>\n",
       "    </tr>\n",
       "  </thead>\n",
       "  <tbody>\n",
       "    <tr>\n",
       "      <th>0</th>\n",
       "      <td>3.812500</td>\n",
       "      <td>4.156250</td>\n",
       "      <td>3.812500</td>\n",
       "      <td>4.125000</td>\n",
       "      <td>3675600</td>\n",
       "    </tr>\n",
       "    <tr>\n",
       "      <th>1</th>\n",
       "      <td>4.125000</td>\n",
       "      <td>4.125000</td>\n",
       "      <td>4.000000</td>\n",
       "      <td>4.015625</td>\n",
       "      <td>1077600</td>\n",
       "    </tr>\n",
       "    <tr>\n",
       "      <th>2</th>\n",
       "      <td>4.000000</td>\n",
       "      <td>4.031250</td>\n",
       "      <td>3.953125</td>\n",
       "      <td>4.000000</td>\n",
       "      <td>437200</td>\n",
       "    </tr>\n",
       "    <tr>\n",
       "      <th>3</th>\n",
       "      <td>4.000000</td>\n",
       "      <td>4.000000</td>\n",
       "      <td>3.843750</td>\n",
       "      <td>3.843750</td>\n",
       "      <td>1883600</td>\n",
       "    </tr>\n",
       "    <tr>\n",
       "      <th>4</th>\n",
       "      <td>3.734375</td>\n",
       "      <td>3.734375</td>\n",
       "      <td>3.390625</td>\n",
       "      <td>3.390625</td>\n",
       "      <td>7931600</td>\n",
       "    </tr>\n",
       "    <tr>\n",
       "      <th>...</th>\n",
       "      <td>...</td>\n",
       "      <td>...</td>\n",
       "      <td>...</td>\n",
       "      <td>...</td>\n",
       "      <td>...</td>\n",
       "    </tr>\n",
       "    <tr>\n",
       "      <th>4387</th>\n",
       "      <td>113.790001</td>\n",
       "      <td>114.099998</td>\n",
       "      <td>112.790001</td>\n",
       "      <td>113.309998</td>\n",
       "      <td>950000</td>\n",
       "    </tr>\n",
       "    <tr>\n",
       "      <th>4388</th>\n",
       "      <td>112.519997</td>\n",
       "      <td>113.529999</td>\n",
       "      <td>111.160004</td>\n",
       "      <td>111.870003</td>\n",
       "      <td>1805200</td>\n",
       "    </tr>\n",
       "    <tr>\n",
       "      <th>4389</th>\n",
       "      <td>112.029999</td>\n",
       "      <td>112.489998</td>\n",
       "      <td>110.250000</td>\n",
       "      <td>112.230003</td>\n",
       "      <td>2136700</td>\n",
       "    </tr>\n",
       "    <tr>\n",
       "      <th>4390</th>\n",
       "      <td>112.459999</td>\n",
       "      <td>112.900002</td>\n",
       "      <td>112.000000</td>\n",
       "      <td>112.339996</td>\n",
       "      <td>1251600</td>\n",
       "    </tr>\n",
       "    <tr>\n",
       "      <th>4391</th>\n",
       "      <td>112.300003</td>\n",
       "      <td>114.790001</td>\n",
       "      <td>112.010002</td>\n",
       "      <td>113.190002</td>\n",
       "      <td>1611700</td>\n",
       "    </tr>\n",
       "  </tbody>\n",
       "</table>\n",
       "<p>4392 rows × 5 columns</p>\n",
       "</div>"
      ],
      "text/plain": [
       "            Open        High         Low       Close   Volume\n",
       "0       3.812500    4.156250    3.812500    4.125000  3675600\n",
       "1       4.125000    4.125000    4.000000    4.015625  1077600\n",
       "2       4.000000    4.031250    3.953125    4.000000   437200\n",
       "3       4.000000    4.000000    3.843750    3.843750  1883600\n",
       "4       3.734375    3.734375    3.390625    3.390625  7931600\n",
       "...          ...         ...         ...         ...      ...\n",
       "4387  113.790001  114.099998  112.790001  113.309998   950000\n",
       "4388  112.519997  113.529999  111.160004  111.870003  1805200\n",
       "4389  112.029999  112.489998  110.250000  112.230003  2136700\n",
       "4390  112.459999  112.900002  112.000000  112.339996  1251600\n",
       "4391  112.300003  114.790001  112.010002  113.190002  1611700\n",
       "\n",
       "[4392 rows x 5 columns]"
      ]
     },
     "execution_count": 16,
     "metadata": {},
     "output_type": "execute_result"
    }
   ],
   "source": [
    "data_df"
   ]
  },
  {
   "cell_type": "markdown",
   "metadata": {},
   "source": [
    "## Normalization - Using MinMax Scaler sklearn"
   ]
  },
  {
   "cell_type": "code",
   "execution_count": 17,
   "metadata": {},
   "outputs": [],
   "source": [
    "from sklearn.preprocessing import MinMaxScaler\n",
    "scaler = MinMaxScaler(feature_range=(0, 1))\n",
    "data_df = scaler.fit_transform(data_df)"
   ]
  },
  {
   "cell_type": "code",
   "execution_count": 18,
   "metadata": {},
   "outputs": [
    {
     "data": {
      "text/plain": [
       "array([[0.00437775, 0.00646865, 0.00693437, 0.00740835, 0.075401  ],\n",
       "       [0.00703093, 0.00620462, 0.00853461, 0.0064823 , 0.01919424],\n",
       "       [0.00596966, 0.00541254, 0.00813455, 0.00635001, 0.00533943],\n",
       "       ...,\n",
       "       [0.92316384, 0.92176368, 0.91533671, 0.9226992 , 0.04210747],\n",
       "       [0.92681462, 0.92522774, 0.93027227, 0.92363047, 0.02295866],\n",
       "       [0.92545622, 0.94119605, 0.93035763, 0.9308272 , 0.03074929]])"
      ]
     },
     "execution_count": 18,
     "metadata": {},
     "output_type": "execute_result"
    }
   ],
   "source": [
    "data_df"
   ]
  },
  {
   "cell_type": "markdown",
   "metadata": {},
   "source": [
    "## Train-Test set split \n",
    "\n",
    "Create two separate copies of the “close” column and use one as output feature while the other as part of the input"
   ]
  },
  {
   "cell_type": "code",
   "execution_count": 19,
   "metadata": {},
   "outputs": [],
   "source": [
    "def to_sequences(seq_size, data1, data2):\n",
    "    x = []\n",
    "    y = []\n",
    "\n",
    "    for i in range(len(data1)-seq_size-1):\n",
    "        #print(i)\n",
    "        window = data1[i:(i+seq_size)]\n",
    "        after_window = data2[i+seq_size]\n",
    "        #window = [[x] for x in window]\n",
    "        #print(\"{} - {}\".format(window,after_window))\n",
    "        x.append(window)\n",
    "        y.append(after_window)\n",
    "        \n",
    "    return np.array(x), np.array(y)\n"
   ]
  },
  {
   "cell_type": "code",
   "execution_count": 20,
   "metadata": {},
   "outputs": [],
   "source": [
    "x,y = to_sequences(7, data_df, data_close)"
   ]
  },
  {
   "cell_type": "code",
   "execution_count": 21,
   "metadata": {},
   "outputs": [
    {
     "name": "stdout",
     "output_type": "stream",
     "text": [
      "Shape of x: (4384, 7, 5)\n",
      "Shape of y: (4384,)\n"
     ]
    }
   ],
   "source": [
    "print(\"Shape of x: {}\".format(x.shape))\n",
    "print(\"Shape of y: {}\".format(y.shape))"
   ]
  },
  {
   "cell_type": "code",
   "execution_count": 22,
   "metadata": {},
   "outputs": [
    {
     "name": "stdout",
     "output_type": "stream",
     "text": [
      "(3068, 7, 5) (1316, 7, 5) (3068,) (1316,)\n"
     ]
    }
   ],
   "source": [
    "\n",
    "\n",
    "X_train, X_test, y_train, y_test = train_test_split(x, y, test_size=0.3, random_state=0)\n",
    "\n",
    "print(X_train.shape, X_test.shape, y_train.shape, y_test.shape)"
   ]
  },
  {
   "cell_type": "code",
   "execution_count": 23,
   "metadata": {},
   "outputs": [],
   "source": [
    "X_tr_re = X_train.reshape(3068,7*5)\n",
    "X_te_re = X_test.reshape(1316,7*5)"
   ]
  },
  {
   "cell_type": "code",
   "execution_count": 24,
   "metadata": {},
   "outputs": [
    {
     "name": "stdout",
     "output_type": "stream",
     "text": [
      "Shape of x_train: (3068, 35)\n",
      "Shape of x_test: (1316, 35)\n",
      "Shape of y_train: (3068,)\n",
      "Shape of y_test: (1316,)\n"
     ]
    }
   ],
   "source": [
    "print(\"Shape of x_train: {}\".format(X_tr_re.shape))\n",
    "print(\"Shape of x_test: {}\".format(X_te_re.shape))\n",
    "print(\"Shape of y_train: {}\".format(y_train.shape))\n",
    "print(\"Shape of y_test: {}\".format(y_test.shape))"
   ]
  },
  {
   "cell_type": "markdown",
   "metadata": {},
   "source": [
    "## Fully Connected Neural Network "
   ]
  },
  {
   "cell_type": "code",
   "execution_count": 25,
   "metadata": {},
   "outputs": [],
   "source": [
    "import io, requests, os, h5py\n",
    "\n",
    "from tensorflow.keras.models import Sequential\n",
    "from tensorflow.keras.layers import Dense, Activation, Dropout\n",
    "from tensorflow.keras.callbacks import EarlyStopping\n",
    "from tensorflow.keras.callbacks import ModelCheckpoint\n",
    "from tensorflow.keras import optimizers\n",
    "checkpoint_path = 'model_weight.hdf5'\n",
    "\n",
    "model = Sequential()\n",
    "\n",
    "model.add(Dense(128, input_dim=35, activation='relu'))\n",
    "model.add(Dense(64,activation='relu'))\n",
    "model.add(Dense(1))"
   ]
  },
  {
   "cell_type": "code",
   "execution_count": 26,
   "metadata": {},
   "outputs": [
    {
     "name": "stdout",
     "output_type": "stream",
     "text": [
      "Epoch 1/1000\n",
      "96/96 - 0s - loss: 514.2210 - val_loss: 4.9286\n",
      "Epoch 2/1000\n",
      "96/96 - 0s - loss: 2.7442 - val_loss: 4.8522\n",
      "Epoch 3/1000\n",
      "96/96 - 0s - loss: 2.4136 - val_loss: 2.5387\n",
      "Epoch 4/1000\n",
      "96/96 - 0s - loss: 2.3539 - val_loss: 2.8480\n",
      "Epoch 5/1000\n",
      "96/96 - 0s - loss: 2.4318 - val_loss: 2.4113\n",
      "Epoch 6/1000\n",
      "96/96 - 0s - loss: 2.2012 - val_loss: 5.1962\n",
      "Epoch 7/1000\n",
      "96/96 - 0s - loss: 2.1532 - val_loss: 3.8548\n",
      "Epoch 8/1000\n",
      "96/96 - 0s - loss: 2.1907 - val_loss: 2.6316\n",
      "Epoch 9/1000\n",
      "96/96 - 0s - loss: 2.1976 - val_loss: 2.2774\n",
      "Epoch 10/1000\n",
      "96/96 - 0s - loss: 2.1127 - val_loss: 2.7993\n",
      "Epoch 11/1000\n",
      "96/96 - 0s - loss: 2.1939 - val_loss: 3.0944\n",
      "Epoch 12/1000\n",
      "96/96 - 0s - loss: 2.0665 - val_loss: 2.1484\n",
      "Epoch 13/1000\n",
      "96/96 - 0s - loss: 2.0352 - val_loss: 4.1549\n",
      "Epoch 14/1000\n",
      "96/96 - 0s - loss: 1.9405 - val_loss: 2.0745\n",
      "Epoch 15/1000\n",
      "96/96 - 0s - loss: 1.9111 - val_loss: 2.5562\n",
      "Epoch 16/1000\n",
      "96/96 - 0s - loss: 1.8722 - val_loss: 2.4210\n",
      "Epoch 17/1000\n",
      "96/96 - 0s - loss: 2.0249 - val_loss: 2.1851\n",
      "Epoch 18/1000\n",
      "96/96 - 0s - loss: 1.9121 - val_loss: 2.0176\n",
      "Epoch 19/1000\n",
      "96/96 - 0s - loss: 1.8491 - val_loss: 1.9417\n",
      "Epoch 20/1000\n",
      "96/96 - 0s - loss: 1.7785 - val_loss: 2.8471\n",
      "Epoch 21/1000\n",
      "96/96 - 0s - loss: 1.8603 - val_loss: 1.8987\n",
      "Epoch 22/1000\n",
      "96/96 - 0s - loss: 1.7657 - val_loss: 3.3870\n",
      "Epoch 23/1000\n",
      "96/96 - 0s - loss: 1.9119 - val_loss: 3.7880\n",
      "Epoch 24/1000\n",
      "96/96 - 0s - loss: 1.7744 - val_loss: 4.1247\n",
      "Epoch 25/1000\n",
      "96/96 - 0s - loss: 1.7427 - val_loss: 2.0344\n",
      "Epoch 26/1000\n",
      "96/96 - 0s - loss: 1.8180 - val_loss: 2.5613\n",
      "Epoch 27/1000\n",
      "96/96 - 0s - loss: 1.7829 - val_loss: 4.6046\n",
      "Epoch 28/1000\n",
      "96/96 - 0s - loss: 1.7471 - val_loss: 1.7045\n",
      "Epoch 29/1000\n",
      "96/96 - 0s - loss: 1.7745 - val_loss: 1.6859\n",
      "Epoch 30/1000\n",
      "96/96 - 0s - loss: 1.6641 - val_loss: 1.6556\n",
      "Epoch 31/1000\n",
      "96/96 - 0s - loss: 1.7074 - val_loss: 2.9598\n",
      "Epoch 32/1000\n",
      "96/96 - 0s - loss: 1.6571 - val_loss: 1.8394\n",
      "Epoch 33/1000\n",
      "96/96 - 0s - loss: 1.6724 - val_loss: 1.6423\n",
      "Epoch 34/1000\n",
      "96/96 - 0s - loss: 1.6352 - val_loss: 1.6724\n",
      "Epoch 35/1000\n",
      "96/96 - 0s - loss: 1.5826 - val_loss: 1.6048\n",
      "Epoch 36/1000\n",
      "96/96 - 0s - loss: 1.7279 - val_loss: 1.7407\n",
      "Epoch 37/1000\n",
      "96/96 - 0s - loss: 1.6367 - val_loss: 3.2151\n",
      "Epoch 38/1000\n",
      "96/96 - 0s - loss: 1.5844 - val_loss: 1.5318\n",
      "Epoch 39/1000\n",
      "96/96 - 0s - loss: 1.6367 - val_loss: 1.6831\n",
      "Epoch 40/1000\n",
      "96/96 - 0s - loss: 1.6176 - val_loss: 1.5288\n",
      "Epoch 41/1000\n",
      "96/96 - 0s - loss: 1.5417 - val_loss: 1.6684\n",
      "Epoch 42/1000\n",
      "96/96 - 0s - loss: 1.5050 - val_loss: 1.7479\n",
      "Epoch 43/1000\n",
      "96/96 - 0s - loss: 1.6504 - val_loss: 1.5087\n",
      "Epoch 44/1000\n",
      "96/96 - 0s - loss: 1.5262 - val_loss: 1.5665\n",
      "Epoch 45/1000\n",
      "96/96 - 0s - loss: 1.5273 - val_loss: 2.7825\n",
      "Epoch 46/1000\n",
      "96/96 - 0s - loss: 1.4758 - val_loss: 2.3247\n",
      "Epoch 47/1000\n",
      "96/96 - 0s - loss: 1.4900 - val_loss: 1.6804\n",
      "Epoch 48/1000\n",
      "96/96 - 0s - loss: 1.5296 - val_loss: 1.5497\n",
      "Epoch 49/1000\n",
      "96/96 - 0s - loss: 1.6063 - val_loss: 1.5796\n",
      "Epoch 50/1000\n",
      "96/96 - 0s - loss: 1.5173 - val_loss: 3.6608\n",
      "Epoch 51/1000\n",
      "96/96 - 0s - loss: 1.5539 - val_loss: 1.4939\n",
      "Epoch 52/1000\n",
      "96/96 - 0s - loss: 1.5481 - val_loss: 1.5590\n",
      "Epoch 53/1000\n",
      "96/96 - 0s - loss: 1.5513 - val_loss: 3.5681\n",
      "Epoch 54/1000\n",
      "96/96 - 0s - loss: 1.5403 - val_loss: 1.4658\n",
      "Epoch 55/1000\n",
      "96/96 - 0s - loss: 1.5583 - val_loss: 1.4026\n",
      "Epoch 56/1000\n",
      "96/96 - 0s - loss: 1.4538 - val_loss: 3.3397\n",
      "Epoch 57/1000\n",
      "96/96 - 0s - loss: 1.4968 - val_loss: 2.5532\n",
      "Epoch 58/1000\n",
      "96/96 - 0s - loss: 1.5100 - val_loss: 2.4660\n",
      "Epoch 59/1000\n",
      "96/96 - 0s - loss: 1.4714 - val_loss: 1.8594\n",
      "Epoch 60/1000\n",
      "96/96 - 0s - loss: 1.5196 - val_loss: 1.5863\n",
      "Epoch 61/1000\n",
      "96/96 - 0s - loss: 1.3703 - val_loss: 4.2804\n",
      "Epoch 62/1000\n",
      "96/96 - 0s - loss: 1.4792 - val_loss: 1.7376\n",
      "Epoch 63/1000\n",
      "96/96 - 0s - loss: 1.4835 - val_loss: 1.3738\n",
      "Epoch 64/1000\n",
      "96/96 - 0s - loss: 1.3746 - val_loss: 1.3802\n",
      "Epoch 65/1000\n",
      "96/96 - 0s - loss: 1.3928 - val_loss: 1.3919\n",
      "Epoch 66/1000\n",
      "96/96 - 0s - loss: 1.3432 - val_loss: 1.5774\n",
      "Epoch 67/1000\n",
      "96/96 - 0s - loss: 1.4709 - val_loss: 2.2115\n",
      "Epoch 68/1000\n",
      "96/96 - 0s - loss: 1.4474 - val_loss: 4.5422\n",
      "Epoch 69/1000\n",
      "96/96 - 0s - loss: 1.4309 - val_loss: 1.3231\n",
      "Epoch 70/1000\n",
      "96/96 - 0s - loss: 1.4416 - val_loss: 1.4133\n",
      "Epoch 71/1000\n",
      "96/96 - 0s - loss: 1.3876 - val_loss: 1.3709\n",
      "Epoch 72/1000\n",
      "96/96 - 0s - loss: 1.3247 - val_loss: 3.2537\n",
      "Epoch 73/1000\n",
      "96/96 - 0s - loss: 1.3546 - val_loss: 1.4695\n",
      "Epoch 74/1000\n",
      "96/96 - 0s - loss: 1.4065 - val_loss: 1.9730\n",
      "Epoch 75/1000\n",
      "96/96 - 0s - loss: 1.4061 - val_loss: 1.3806\n",
      "Epoch 76/1000\n",
      "96/96 - 0s - loss: 1.3982 - val_loss: 1.3385\n",
      "Epoch 77/1000\n",
      "96/96 - 0s - loss: 1.4198 - val_loss: 1.7742\n",
      "Epoch 78/1000\n",
      "96/96 - 0s - loss: 1.5018 - val_loss: 4.4305\n",
      "Epoch 79/1000\n",
      "96/96 - 0s - loss: 1.3416 - val_loss: 1.4549\n",
      "Epoch 80/1000\n",
      "96/96 - 0s - loss: 1.3654 - val_loss: 1.3589\n",
      "Epoch 81/1000\n",
      "96/96 - 0s - loss: 1.4078 - val_loss: 1.3244\n",
      "Epoch 82/1000\n",
      "96/96 - 0s - loss: 1.4332 - val_loss: 1.4211\n",
      "Epoch 83/1000\n",
      "96/96 - 0s - loss: 1.2434 - val_loss: 1.3053\n",
      "Epoch 84/1000\n",
      "96/96 - 0s - loss: 1.4069 - val_loss: 1.5632\n",
      "Epoch 85/1000\n",
      "96/96 - 0s - loss: 1.3244 - val_loss: 1.6086\n",
      "Epoch 86/1000\n",
      "96/96 - 0s - loss: 1.3593 - val_loss: 2.3594\n",
      "Epoch 87/1000\n",
      "96/96 - 0s - loss: 1.3545 - val_loss: 1.5984\n",
      "Epoch 88/1000\n",
      "96/96 - 0s - loss: 1.3756 - val_loss: 1.6063\n",
      "Epoch 89/1000\n",
      "96/96 - 0s - loss: 1.2839 - val_loss: 1.3783\n",
      "Epoch 90/1000\n",
      "96/96 - 0s - loss: 1.3719 - val_loss: 1.2867\n",
      "Epoch 91/1000\n",
      "96/96 - 0s - loss: 1.2588 - val_loss: 1.7689\n",
      "Epoch 92/1000\n",
      "96/96 - 0s - loss: 1.3236 - val_loss: 1.3396\n",
      "Epoch 93/1000\n",
      "96/96 - 0s - loss: 1.2802 - val_loss: 2.6548\n",
      "Epoch 94/1000\n",
      "96/96 - 0s - loss: 1.3261 - val_loss: 1.4624\n",
      "Epoch 95/1000\n",
      "96/96 - 0s - loss: 1.2705 - val_loss: 1.4591\n",
      "Epoch 96/1000\n",
      "96/96 - 0s - loss: 1.2953 - val_loss: 2.5340\n",
      "Epoch 97/1000\n",
      "96/96 - 0s - loss: 1.3287 - val_loss: 1.5528\n",
      "Epoch 98/1000\n",
      "96/96 - 0s - loss: 1.4195 - val_loss: 1.3042\n",
      "Epoch 99/1000\n",
      "96/96 - 0s - loss: 1.3627 - val_loss: 1.7340\n",
      "Epoch 100/1000\n",
      "96/96 - 0s - loss: 1.2642 - val_loss: 1.3044\n",
      "Epoch 101/1000\n",
      "96/96 - 0s - loss: 1.2923 - val_loss: 2.7643\n",
      "Epoch 102/1000\n",
      "96/96 - 0s - loss: 1.2412 - val_loss: 1.3204\n",
      "Epoch 103/1000\n",
      "96/96 - 0s - loss: 1.3572 - val_loss: 2.1741\n",
      "Epoch 104/1000\n",
      "96/96 - 0s - loss: 1.3185 - val_loss: 1.3557\n",
      "Epoch 105/1000\n",
      "96/96 - 0s - loss: 1.3307 - val_loss: 1.2990\n",
      "Epoch 106/1000\n",
      "96/96 - 0s - loss: 1.2318 - val_loss: 1.3094\n",
      "Epoch 107/1000\n",
      "96/96 - 0s - loss: 1.3398 - val_loss: 1.4482\n",
      "Epoch 108/1000\n",
      "96/96 - 0s - loss: 1.2476 - val_loss: 3.2409\n",
      "Epoch 109/1000\n",
      "96/96 - 0s - loss: 1.3107 - val_loss: 1.2764\n",
      "Epoch 110/1000\n",
      "96/96 - 0s - loss: 1.2862 - val_loss: 2.0677\n",
      "Epoch 111/1000\n",
      "96/96 - 0s - loss: 1.1922 - val_loss: 1.2406\n",
      "Epoch 112/1000\n",
      "96/96 - 0s - loss: 1.2930 - val_loss: 2.4659\n",
      "Epoch 113/1000\n",
      "96/96 - 0s - loss: 1.2654 - val_loss: 3.4340\n",
      "Epoch 114/1000\n",
      "96/96 - 0s - loss: 1.2620 - val_loss: 1.2750\n",
      "Epoch 115/1000\n",
      "96/96 - 0s - loss: 1.2096 - val_loss: 1.2440\n",
      "Epoch 116/1000\n",
      "96/96 - 0s - loss: 1.2169 - val_loss: 1.2756\n",
      "Epoch 117/1000\n",
      "96/96 - 0s - loss: 1.2748 - val_loss: 1.4088\n",
      "Epoch 118/1000\n",
      "96/96 - 0s - loss: 1.2695 - val_loss: 1.3582\n",
      "Epoch 119/1000\n",
      "96/96 - 0s - loss: 1.2803 - val_loss: 3.4692\n",
      "Epoch 120/1000\n",
      "96/96 - 0s - loss: 1.1593 - val_loss: 1.7217\n",
      "Epoch 121/1000\n",
      "96/96 - 0s - loss: 1.3343 - val_loss: 1.7922\n",
      "Epoch 122/1000\n",
      "96/96 - 0s - loss: 1.2669 - val_loss: 1.2466\n",
      "Epoch 123/1000\n",
      "96/96 - 0s - loss: 1.3602 - val_loss: 2.2562\n",
      "Epoch 124/1000\n",
      "96/96 - 0s - loss: 1.3723 - val_loss: 1.2293\n",
      "Epoch 125/1000\n",
      "96/96 - 0s - loss: 1.1631 - val_loss: 1.2503\n",
      "Epoch 126/1000\n",
      "96/96 - 0s - loss: 1.3233 - val_loss: 1.4695\n",
      "Epoch 127/1000\n",
      "96/96 - 0s - loss: 1.2841 - val_loss: 1.4433\n",
      "Epoch 128/1000\n",
      "96/96 - 0s - loss: 1.1999 - val_loss: 1.5155\n",
      "Epoch 129/1000\n",
      "96/96 - 0s - loss: 1.2943 - val_loss: 1.3778\n",
      "Epoch 130/1000\n",
      "96/96 - 0s - loss: 1.1829 - val_loss: 1.2705\n",
      "Epoch 131/1000\n",
      "96/96 - 0s - loss: 1.2866 - val_loss: 1.2509\n",
      "Epoch 132/1000\n",
      "96/96 - 0s - loss: 1.1170 - val_loss: 1.4120\n",
      "Epoch 133/1000\n",
      "96/96 - 0s - loss: 1.2730 - val_loss: 1.2213\n",
      "Epoch 134/1000\n",
      "96/96 - 0s - loss: 1.2139 - val_loss: 1.2140\n",
      "Epoch 135/1000\n",
      "96/96 - 0s - loss: 1.2776 - val_loss: 1.8753\n",
      "Epoch 136/1000\n",
      "96/96 - 0s - loss: 1.2050 - val_loss: 1.8185\n",
      "Epoch 137/1000\n",
      "96/96 - 0s - loss: 1.2043 - val_loss: 3.1527\n",
      "Epoch 138/1000\n",
      "96/96 - 0s - loss: 1.2518 - val_loss: 1.2562\n",
      "Epoch 139/1000\n",
      "96/96 - 0s - loss: 1.1999 - val_loss: 1.4543\n"
     ]
    },
    {
     "name": "stdout",
     "output_type": "stream",
     "text": [
      "Epoch 140/1000\n",
      "96/96 - 0s - loss: 1.3023 - val_loss: 1.9112\n",
      "Epoch 141/1000\n",
      "96/96 - 0s - loss: 1.2881 - val_loss: 1.3085\n",
      "Epoch 142/1000\n",
      "96/96 - 0s - loss: 1.2939 - val_loss: 1.1999\n",
      "Epoch 143/1000\n",
      "96/96 - 0s - loss: 1.2342 - val_loss: 1.2451\n",
      "Epoch 144/1000\n",
      "96/96 - 0s - loss: 1.2081 - val_loss: 1.5471\n",
      "Epoch 145/1000\n",
      "96/96 - 0s - loss: 1.1710 - val_loss: 1.2512\n",
      "Epoch 146/1000\n",
      "96/96 - 0s - loss: 1.1756 - val_loss: 1.2388\n",
      "Epoch 147/1000\n",
      "96/96 - 0s - loss: 1.2291 - val_loss: 1.3100\n",
      "Epoch 148/1000\n",
      "96/96 - 0s - loss: 1.2576 - val_loss: 1.2020\n",
      "Epoch 149/1000\n",
      "96/96 - 0s - loss: 1.2601 - val_loss: 1.2449\n",
      "Epoch 150/1000\n",
      "96/96 - 0s - loss: 1.1593 - val_loss: 1.2871\n",
      "Epoch 151/1000\n",
      "96/96 - 0s - loss: 1.1313 - val_loss: 1.2392\n",
      "Epoch 152/1000\n",
      "96/96 - 0s - loss: 1.2563 - val_loss: 2.0436\n",
      "Epoch 153/1000\n",
      "96/96 - 0s - loss: 1.1800 - val_loss: 1.3218\n",
      "Epoch 154/1000\n",
      "96/96 - 0s - loss: 1.1703 - val_loss: 1.9443\n",
      "Epoch 155/1000\n",
      "96/96 - 0s - loss: 1.1280 - val_loss: 1.5288\n",
      "Epoch 156/1000\n",
      "96/96 - 0s - loss: 1.2099 - val_loss: 1.2413\n",
      "Epoch 157/1000\n",
      "96/96 - 0s - loss: 1.1824 - val_loss: 1.2932\n",
      "Epoch 158/1000\n",
      "96/96 - 0s - loss: 1.0202 - val_loss: 2.2669\n",
      "Epoch 159/1000\n",
      "96/96 - 0s - loss: 1.2487 - val_loss: 1.1998\n",
      "Epoch 160/1000\n",
      "96/96 - 0s - loss: 1.1825 - val_loss: 1.2831\n",
      "Epoch 161/1000\n",
      "96/96 - 0s - loss: 1.1821 - val_loss: 1.2262\n",
      "Epoch 162/1000\n",
      "96/96 - 0s - loss: 1.1599 - val_loss: 2.0663\n",
      "Epoch 163/1000\n",
      "96/96 - 0s - loss: 1.1797 - val_loss: 1.4413\n",
      "Epoch 164/1000\n",
      "96/96 - 0s - loss: 1.1517 - val_loss: 1.2313\n",
      "Epoch 165/1000\n",
      "96/96 - 0s - loss: 1.1295 - val_loss: 1.9819\n",
      "Epoch 166/1000\n",
      "96/96 - 0s - loss: 1.1879 - val_loss: 1.4344\n",
      "Epoch 167/1000\n",
      "96/96 - 0s - loss: 1.2658 - val_loss: 1.7721\n",
      "Epoch 168/1000\n",
      "96/96 - 0s - loss: 1.1507 - val_loss: 1.4128\n",
      "Epoch 169/1000\n",
      "96/96 - 0s - loss: 1.2218 - val_loss: 1.2292\n",
      "Epoch 170/1000\n",
      "96/96 - 0s - loss: 1.2172 - val_loss: 1.2007\n",
      "Epoch 171/1000\n",
      "96/96 - 0s - loss: 1.1325 - val_loss: 1.1884\n",
      "Epoch 172/1000\n",
      "96/96 - 0s - loss: 1.1183 - val_loss: 1.1965\n",
      "Epoch 173/1000\n",
      "96/96 - 0s - loss: 1.1302 - val_loss: 1.1609\n",
      "Epoch 174/1000\n",
      "96/96 - 0s - loss: 1.1732 - val_loss: 1.2686\n",
      "Epoch 175/1000\n",
      "96/96 - 0s - loss: 1.1443 - val_loss: 2.2165\n",
      "Epoch 176/1000\n",
      "96/96 - 0s - loss: 1.1563 - val_loss: 2.0941\n",
      "Epoch 177/1000\n",
      "96/96 - 0s - loss: 1.1200 - val_loss: 1.1647\n",
      "Epoch 178/1000\n",
      "96/96 - 0s - loss: 1.1427 - val_loss: 1.4605\n",
      "Epoch 179/1000\n",
      "96/96 - 0s - loss: 1.1216 - val_loss: 1.2280\n",
      "Epoch 180/1000\n",
      "96/96 - 0s - loss: 1.1746 - val_loss: 1.1725\n",
      "Epoch 181/1000\n",
      "96/96 - 0s - loss: 1.2105 - val_loss: 1.5229\n",
      "Epoch 182/1000\n",
      "96/96 - 0s - loss: 1.1562 - val_loss: 1.2218\n",
      "Epoch 183/1000\n",
      "96/96 - 0s - loss: 1.1527 - val_loss: 1.2113\n",
      "Epoch 184/1000\n",
      "96/96 - 0s - loss: 1.1832 - val_loss: 2.2974\n",
      "Epoch 185/1000\n",
      "96/96 - 0s - loss: 1.2027 - val_loss: 1.4504\n",
      "Epoch 186/1000\n",
      "96/96 - 0s - loss: 1.1054 - val_loss: 2.0133\n",
      "Epoch 187/1000\n",
      "96/96 - 0s - loss: 1.1347 - val_loss: 1.2355\n",
      "Epoch 188/1000\n",
      "96/96 - 0s - loss: 1.1718 - val_loss: 1.2045\n",
      "Epoch 189/1000\n",
      "96/96 - 0s - loss: 1.0897 - val_loss: 1.5695\n",
      "Epoch 190/1000\n",
      "96/96 - 0s - loss: 1.0941 - val_loss: 1.1784\n",
      "Epoch 191/1000\n",
      "96/96 - 0s - loss: 1.1040 - val_loss: 1.1871\n",
      "Epoch 192/1000\n",
      "96/96 - 0s - loss: 1.1809 - val_loss: 1.1863\n",
      "Epoch 193/1000\n",
      "96/96 - 0s - loss: 1.0846 - val_loss: 1.8057\n",
      "Epoch 194/1000\n",
      "96/96 - 0s - loss: 1.2049 - val_loss: 1.5047\n",
      "Epoch 195/1000\n",
      "96/96 - 0s - loss: 1.0728 - val_loss: 2.6417\n",
      "Epoch 196/1000\n",
      "96/96 - 0s - loss: 1.1343 - val_loss: 1.2627\n",
      "Epoch 197/1000\n",
      "96/96 - 0s - loss: 1.1349 - val_loss: 1.6633\n",
      "Epoch 198/1000\n",
      "96/96 - 0s - loss: 1.1238 - val_loss: 1.5176\n",
      "Epoch 199/1000\n",
      "96/96 - 0s - loss: 1.1005 - val_loss: 1.4043\n",
      "Epoch 200/1000\n",
      "96/96 - 0s - loss: 1.1672 - val_loss: 1.2301\n",
      "Epoch 201/1000\n",
      "96/96 - 0s - loss: 1.1781 - val_loss: 1.1924\n",
      "Epoch 202/1000\n",
      "96/96 - 0s - loss: 1.1255 - val_loss: 1.1793\n",
      "Epoch 203/1000\n",
      "96/96 - 0s - loss: 1.1205 - val_loss: 1.5021\n",
      "Epoch 204/1000\n",
      "96/96 - 0s - loss: 1.1752 - val_loss: 1.3851\n",
      "Epoch 205/1000\n",
      "96/96 - 0s - loss: 1.1254 - val_loss: 1.5261\n",
      "Epoch 206/1000\n",
      "96/96 - 0s - loss: 1.1619 - val_loss: 1.1843\n",
      "Epoch 207/1000\n",
      "96/96 - 0s - loss: 1.1440 - val_loss: 1.9388\n",
      "Epoch 208/1000\n",
      "96/96 - 0s - loss: 1.2113 - val_loss: 1.4850\n",
      "Epoch 209/1000\n",
      "96/96 - 0s - loss: 1.0732 - val_loss: 1.5116\n",
      "Epoch 210/1000\n",
      "96/96 - 0s - loss: 1.1475 - val_loss: 1.1786\n",
      "Epoch 211/1000\n",
      "96/96 - 0s - loss: 1.1675 - val_loss: 1.7149\n",
      "Epoch 212/1000\n",
      "96/96 - 0s - loss: 1.0530 - val_loss: 1.5554\n",
      "Epoch 213/1000\n",
      "96/96 - 0s - loss: 1.1379 - val_loss: 1.3084\n",
      "Epoch 214/1000\n",
      "96/96 - 0s - loss: 1.1360 - val_loss: 1.1477\n",
      "Epoch 215/1000\n",
      "96/96 - 0s - loss: 1.1174 - val_loss: 1.2543\n",
      "Epoch 216/1000\n",
      "96/96 - 0s - loss: 1.1460 - val_loss: 1.6259\n",
      "Epoch 217/1000\n",
      "96/96 - 0s - loss: 1.1234 - val_loss: 2.0994\n",
      "Epoch 218/1000\n",
      "96/96 - 0s - loss: 1.1289 - val_loss: 1.8206\n",
      "Epoch 219/1000\n",
      "96/96 - 0s - loss: 1.1370 - val_loss: 1.8302\n",
      "Epoch 220/1000\n",
      "96/96 - 0s - loss: 1.1191 - val_loss: 2.2082\n",
      "Epoch 221/1000\n",
      "96/96 - 0s - loss: 1.2204 - val_loss: 1.1417\n",
      "Epoch 222/1000\n",
      "96/96 - 0s - loss: 1.1247 - val_loss: 1.2039\n",
      "Epoch 223/1000\n",
      "96/96 - 0s - loss: 1.0534 - val_loss: 1.7450\n",
      "Epoch 224/1000\n",
      "96/96 - 0s - loss: 1.0867 - val_loss: 1.5443\n",
      "Epoch 225/1000\n",
      "96/96 - 0s - loss: 1.0824 - val_loss: 1.1877\n",
      "Epoch 226/1000\n",
      "96/96 - 0s - loss: 1.0906 - val_loss: 1.3590\n",
      "Epoch 227/1000\n",
      "96/96 - 0s - loss: 1.1201 - val_loss: 1.2383\n",
      "Epoch 228/1000\n",
      "96/96 - 0s - loss: 1.0918 - val_loss: 1.2313\n",
      "Epoch 229/1000\n",
      "96/96 - 0s - loss: 1.1407 - val_loss: 1.2847\n",
      "Epoch 230/1000\n",
      "96/96 - 0s - loss: 1.1027 - val_loss: 2.0511\n",
      "Epoch 231/1000\n",
      "96/96 - 0s - loss: 1.1314 - val_loss: 1.1838\n",
      "Epoch 232/1000\n",
      "96/96 - 0s - loss: 1.1097 - val_loss: 1.3895\n",
      "Epoch 233/1000\n",
      "96/96 - 0s - loss: 1.1293 - val_loss: 1.1583\n",
      "Epoch 234/1000\n",
      "96/96 - 0s - loss: 1.0238 - val_loss: 1.5151\n",
      "Epoch 235/1000\n",
      "96/96 - 0s - loss: 1.0597 - val_loss: 1.3616\n",
      "Epoch 236/1000\n",
      "96/96 - 0s - loss: 1.1318 - val_loss: 1.3037\n",
      "Epoch 237/1000\n",
      "96/96 - 0s - loss: 1.1105 - val_loss: 1.1597\n",
      "Epoch 238/1000\n",
      "96/96 - 0s - loss: 1.0715 - val_loss: 1.1713\n",
      "Epoch 239/1000\n",
      "96/96 - 0s - loss: 1.1419 - val_loss: 2.4767\n",
      "Epoch 240/1000\n",
      "96/96 - 0s - loss: 1.0245 - val_loss: 1.2380\n",
      "Epoch 241/1000\n",
      "96/96 - 0s - loss: 1.0681 - val_loss: 1.7914\n",
      "Epoch 242/1000\n",
      "96/96 - 0s - loss: 1.1115 - val_loss: 1.2118\n",
      "Epoch 243/1000\n",
      "96/96 - 0s - loss: 1.0966 - val_loss: 1.4035\n",
      "Epoch 244/1000\n",
      "96/96 - 0s - loss: 1.0971 - val_loss: 1.1769\n",
      "Epoch 245/1000\n",
      "96/96 - 0s - loss: 1.0318 - val_loss: 1.2261\n",
      "Epoch 246/1000\n",
      "96/96 - 0s - loss: 1.0318 - val_loss: 1.1847\n",
      "Epoch 247/1000\n",
      "96/96 - 0s - loss: 1.1413 - val_loss: 1.1554\n",
      "Epoch 248/1000\n",
      "96/96 - 0s - loss: 1.0430 - val_loss: 1.6625\n",
      "Epoch 249/1000\n",
      "96/96 - 0s - loss: 1.1699 - val_loss: 1.1746\n",
      "Epoch 250/1000\n",
      "96/96 - 0s - loss: 1.0325 - val_loss: 1.4093\n",
      "Epoch 251/1000\n",
      "96/96 - 0s - loss: 1.0858 - val_loss: 1.1800\n",
      "Epoch 252/1000\n",
      "96/96 - 0s - loss: 1.1491 - val_loss: 1.1776\n",
      "Epoch 253/1000\n",
      "96/96 - 0s - loss: 1.0533 - val_loss: 1.1949\n",
      "Epoch 254/1000\n",
      "96/96 - 0s - loss: 1.0229 - val_loss: 1.1638\n",
      "Epoch 255/1000\n",
      "96/96 - 0s - loss: 1.1341 - val_loss: 1.1767\n",
      "Epoch 256/1000\n",
      "96/96 - 0s - loss: 1.1089 - val_loss: 1.5898\n",
      "Epoch 257/1000\n",
      "96/96 - 0s - loss: 1.0900 - val_loss: 1.1535\n",
      "Epoch 258/1000\n",
      "96/96 - 0s - loss: 1.0678 - val_loss: 1.1998\n",
      "Epoch 259/1000\n",
      "96/96 - 0s - loss: 1.0886 - val_loss: 1.7117\n",
      "Epoch 260/1000\n",
      "96/96 - 0s - loss: 1.0757 - val_loss: 1.1607\n",
      "Epoch 261/1000\n",
      "96/96 - 0s - loss: 1.0525 - val_loss: 1.6576\n",
      "Epoch 262/1000\n",
      "96/96 - 0s - loss: 1.0356 - val_loss: 1.9325\n",
      "Epoch 263/1000\n",
      "96/96 - 0s - loss: 1.1318 - val_loss: 1.1458\n",
      "Epoch 264/1000\n",
      "96/96 - 0s - loss: 1.0482 - val_loss: 2.0145\n",
      "Epoch 265/1000\n",
      "96/96 - 0s - loss: 1.0811 - val_loss: 1.8758\n",
      "Epoch 266/1000\n",
      "96/96 - 0s - loss: 1.1025 - val_loss: 1.1407\n",
      "Epoch 267/1000\n",
      "96/96 - 0s - loss: 1.0993 - val_loss: 2.8105\n",
      "Epoch 268/1000\n",
      "96/96 - 0s - loss: 1.0401 - val_loss: 1.2010\n",
      "Epoch 269/1000\n",
      "96/96 - 0s - loss: 1.0962 - val_loss: 1.9489\n",
      "Epoch 270/1000\n",
      "96/96 - 0s - loss: 1.0299 - val_loss: 2.2595\n",
      "Epoch 271/1000\n",
      "96/96 - 0s - loss: 1.0897 - val_loss: 1.3516\n",
      "Epoch 00271: early stopping\n"
     ]
    },
    {
     "data": {
      "text/plain": [
       "<tensorflow.python.keras.callbacks.History at 0x7fa1b490cd00>"
      ]
     },
     "execution_count": 26,
     "metadata": {},
     "output_type": "execute_result"
    }
   ],
   "source": [
    "model.compile(loss='mean_squared_error')\n",
    "monitor = EarlyStopping(monitor='val_loss', min_delta=1e-3, patience=50, verbose=1, mode='auto')\n",
    "\n",
    "checkpointer = ModelCheckpoint(filepath=checkpoint_path, verbose=0, save_best_only=True) # save best model\n",
    "\n",
    "model.fit(X_tr_re, y_train,validation_data=(X_te_re,y_test),callbacks=[monitor],verbose=2,epochs=1000)\n"
   ]
  },
  {
   "cell_type": "code",
   "execution_count": 27,
   "metadata": {},
   "outputs": [],
   "source": [
    "def chart_regression(pred,y,sort=True):\n",
    "    t = pd.DataFrame({'pred' : pred, 'y' : y.flatten()})\n",
    "    if sort:\n",
    "        t.sort_values(by=['y'],inplace=True)\n",
    "    a = plt.plot(t['y'].tolist(),label='expected')\n",
    "    b = plt.plot(t['pred'].tolist(),label='prediction')\n",
    "    plt.ylabel('output')\n",
    "    plt.legend()\n",
    "    plt.show()"
   ]
  },
  {
   "cell_type": "code",
   "execution_count": 28,
   "metadata": {
    "scrolled": true
   },
   "outputs": [
    {
     "name": "stdout",
     "output_type": "stream",
     "text": [
      "Score_train (RMSE): 0.9675281315655782\n",
      "Score_test (RMSE): 1.1625842944066456\n"
     ]
    },
    {
     "data": {
      "image/png": "[encoded data removed]",
      "text/plain": [
       "<Figure size 432x288 with 1 Axes>"
      ]
     },
     "metadata": {
      "needs_background": "light"
     },
     "output_type": "display_data"
    },
    {
     "data": {
      "image/png": "[encoded data removed]",
      "text/plain": [
       "<Figure size 432x288 with 1 Axes>"
      ]
     },
     "metadata": {
      "needs_background": "light"
     },
     "output_type": "display_data"
    }
   ],
   "source": [
    "\n",
    "from sklearn import metrics\n",
    "\n",
    "pred_train = model.predict(X_tr_re)\n",
    "score_train = np.sqrt(metrics.mean_squared_error(pred_train,y_train))\n",
    "pred_test = model.predict(X_te_re)\n",
    "score_test = np.sqrt(metrics.mean_squared_error(pred_test,y_test))\n",
    "print(\"Score_train (RMSE): {}\".format(score_train))\n",
    "print(\"Score_test (RMSE): {}\".format(score_test))\n",
    "\n",
    "\n",
    "chart_regression(pred_train.flatten(),y_train, sort=True)\n",
    "chart_regression(pred_test.flatten(),y_test, sort=False)"
   ]
  },
  {
   "cell_type": "code",
   "execution_count": 29,
   "metadata": {},
   "outputs": [
    {
     "name": "stdout",
     "output_type": "stream",
     "text": [
      "R2 score 0.9984584088154889\n"
     ]
    }
   ],
   "source": [
    "print(\"R2 score\",metrics.r2_score(y_test,pred_test))"
   ]
  },
  {
   "cell_type": "code",
   "execution_count": 30,
   "metadata": {},
   "outputs": [
    {
     "data": {
      "text/html": [
       "<div>\n",
       "<style scoped>\n",
       "    .dataframe tbody tr th:only-of-type {\n",
       "        vertical-align: middle;\n",
       "    }\n",
       "\n",
       "    .dataframe tbody tr th {\n",
       "        vertical-align: top;\n",
       "    }\n",
       "\n",
       "    .dataframe thead th {\n",
       "        text-align: right;\n",
       "    }\n",
       "</style>\n",
       "<table border=\"1\" class=\"dataframe\">\n",
       "  <thead>\n",
       "    <tr style=\"text-align: right;\">\n",
       "      <th></th>\n",
       "      <th>ground_truth</th>\n",
       "      <th>predicted</th>\n",
       "    </tr>\n",
       "  </thead>\n",
       "  <tbody>\n",
       "    <tr>\n",
       "      <th>0</th>\n",
       "      <td>42.775002</td>\n",
       "      <td>42.428997</td>\n",
       "    </tr>\n",
       "    <tr>\n",
       "      <th>1</th>\n",
       "      <td>78.220001</td>\n",
       "      <td>77.515213</td>\n",
       "    </tr>\n",
       "    <tr>\n",
       "      <th>2</th>\n",
       "      <td>11.000000</td>\n",
       "      <td>11.130077</td>\n",
       "    </tr>\n",
       "    <tr>\n",
       "      <th>3</th>\n",
       "      <td>7.395000</td>\n",
       "      <td>7.393027</td>\n",
       "    </tr>\n",
       "    <tr>\n",
       "      <th>4</th>\n",
       "      <td>95.680000</td>\n",
       "      <td>92.796242</td>\n",
       "    </tr>\n",
       "    <tr>\n",
       "      <th>...</th>\n",
       "      <td>...</td>\n",
       "      <td>...</td>\n",
       "    </tr>\n",
       "    <tr>\n",
       "      <th>1311</th>\n",
       "      <td>42.490002</td>\n",
       "      <td>42.561947</td>\n",
       "    </tr>\n",
       "    <tr>\n",
       "      <th>1312</th>\n",
       "      <td>33.980000</td>\n",
       "      <td>33.404217</td>\n",
       "    </tr>\n",
       "    <tr>\n",
       "      <th>1313</th>\n",
       "      <td>105.430000</td>\n",
       "      <td>105.854568</td>\n",
       "    </tr>\n",
       "    <tr>\n",
       "      <th>1314</th>\n",
       "      <td>10.867500</td>\n",
       "      <td>10.758877</td>\n",
       "    </tr>\n",
       "    <tr>\n",
       "      <th>1315</th>\n",
       "      <td>32.299999</td>\n",
       "      <td>41.465099</td>\n",
       "    </tr>\n",
       "  </tbody>\n",
       "</table>\n",
       "<p>1316 rows × 2 columns</p>\n",
       "</div>"
      ],
      "text/plain": [
       "      ground_truth   predicted\n",
       "0        42.775002   42.428997\n",
       "1        78.220001   77.515213\n",
       "2        11.000000   11.130077\n",
       "3         7.395000    7.393027\n",
       "4        95.680000   92.796242\n",
       "...            ...         ...\n",
       "1311     42.490002   42.561947\n",
       "1312     33.980000   33.404217\n",
       "1313    105.430000  105.854568\n",
       "1314     10.867500   10.758877\n",
       "1315     32.299999   41.465099\n",
       "\n",
       "[1316 rows x 2 columns]"
      ]
     },
     "execution_count": 30,
     "metadata": {},
     "output_type": "execute_result"
    }
   ],
   "source": [
    "df_y = pd.DataFrame(y_test, columns=['ground_truth'])\n",
    "df_pred = pd.DataFrame(pred_test, columns=['predicted'])\n",
    "result = pd.concat([df_y, df_pred],axis=1)\n",
    "result"
   ]
  },
  {
   "cell_type": "markdown",
   "metadata": {},
   "source": [
    "## Parameter Tuning\n",
    "<pre>\n",
    "  Activation:  sigmoid\n",
    "  Number of layers and neuron count in each layer\n",
    "  Optimizer: sgd, adam\n",
    "  Number of LSTM layers and neuron count in each layer : 2, (256, 128)</pre>\n",
    "  L1 and L2 regularization "
   ]
  },
  {
   "cell_type": "code",
   "execution_count": 31,
   "metadata": {},
   "outputs": [
    {
     "name": "stdout",
     "output_type": "stream",
     "text": [
      "Epoch 1/1000\n",
      "96/96 - 0s - loss: 451.3453 - val_loss: 35.2637\n",
      "Epoch 2/1000\n",
      "96/96 - 0s - loss: 28.6212 - val_loss: 22.2998\n",
      "Epoch 3/1000\n",
      "96/96 - 0s - loss: 18.8912 - val_loss: 16.4310\n",
      "Epoch 4/1000\n",
      "96/96 - 0s - loss: 15.4173 - val_loss: 14.3796\n",
      "Epoch 5/1000\n",
      "96/96 - 0s - loss: 13.2278 - val_loss: 12.4994\n",
      "Epoch 6/1000\n",
      "96/96 - 0s - loss: 12.1895 - val_loss: 12.1095\n",
      "Epoch 7/1000\n",
      "96/96 - 0s - loss: 11.1003 - val_loss: 11.4978\n",
      "Epoch 8/1000\n",
      "96/96 - 0s - loss: 10.8609 - val_loss: 10.6440\n",
      "Epoch 9/1000\n",
      "96/96 - 0s - loss: 10.3798 - val_loss: 10.0059\n",
      "Epoch 10/1000\n",
      "96/96 - 0s - loss: 9.4415 - val_loss: 9.3351\n",
      "Epoch 11/1000\n",
      "96/96 - 0s - loss: 9.2834 - val_loss: 9.1116\n",
      "Epoch 12/1000\n",
      "96/96 - 0s - loss: 8.7745 - val_loss: 8.5557\n",
      "Epoch 13/1000\n",
      "96/96 - 0s - loss: 8.2963 - val_loss: 8.2318\n",
      "Epoch 14/1000\n",
      "96/96 - 0s - loss: 7.9916 - val_loss: 8.2027\n",
      "Epoch 15/1000\n",
      "96/96 - 0s - loss: 7.5984 - val_loss: 7.7645\n",
      "Epoch 16/1000\n",
      "96/96 - 0s - loss: 7.3015 - val_loss: 7.3867\n",
      "Epoch 17/1000\n",
      "96/96 - 0s - loss: 7.5028 - val_loss: 7.2213\n",
      "Epoch 18/1000\n",
      "96/96 - 0s - loss: 7.4916 - val_loss: 7.2470\n",
      "Epoch 19/1000\n",
      "96/96 - 0s - loss: 7.8463 - val_loss: 6.9410\n",
      "Epoch 20/1000\n",
      "96/96 - 0s - loss: 6.9730 - val_loss: 6.6242\n",
      "Epoch 21/1000\n",
      "96/96 - 0s - loss: 6.4219 - val_loss: 6.8703\n",
      "Epoch 22/1000\n",
      "96/96 - 0s - loss: 6.3510 - val_loss: 7.0302\n",
      "Epoch 23/1000\n",
      "96/96 - 0s - loss: 6.3600 - val_loss: 6.7058\n",
      "Epoch 24/1000\n",
      "96/96 - 0s - loss: 6.0027 - val_loss: 6.5085\n",
      "Epoch 25/1000\n",
      "96/96 - 0s - loss: 5.7835 - val_loss: 5.9248\n",
      "Epoch 26/1000\n",
      "96/96 - 0s - loss: 6.0665 - val_loss: 6.1432\n",
      "Epoch 27/1000\n",
      "96/96 - 0s - loss: 5.5611 - val_loss: 6.9895\n",
      "Epoch 28/1000\n",
      "96/96 - 0s - loss: 5.5695 - val_loss: 6.2971\n",
      "Epoch 29/1000\n",
      "96/96 - 0s - loss: 6.0797 - val_loss: 6.3673\n",
      "Epoch 30/1000\n",
      "96/96 - 0s - loss: 5.4240 - val_loss: 5.6485\n",
      "Epoch 31/1000\n",
      "96/96 - 0s - loss: 6.0382 - val_loss: 5.8741\n",
      "Epoch 32/1000\n",
      "96/96 - 0s - loss: 5.3199 - val_loss: 5.8212\n",
      "Epoch 33/1000\n",
      "96/96 - 0s - loss: 5.3548 - val_loss: 5.1221\n",
      "Epoch 34/1000\n",
      "96/96 - 0s - loss: 5.1041 - val_loss: 4.9749\n",
      "Epoch 35/1000\n",
      "96/96 - 0s - loss: 4.8118 - val_loss: 5.4586\n",
      "Epoch 36/1000\n",
      "96/96 - 0s - loss: 4.9580 - val_loss: 5.1146\n",
      "Epoch 37/1000\n",
      "96/96 - 0s - loss: 4.7829 - val_loss: 5.0143\n",
      "Epoch 38/1000\n",
      "96/96 - 0s - loss: 4.7261 - val_loss: 5.5188\n",
      "Epoch 39/1000\n",
      "96/96 - 0s - loss: 4.6527 - val_loss: 5.6074\n",
      "Epoch 40/1000\n",
      "96/96 - 0s - loss: 4.5142 - val_loss: 4.8243\n",
      "Epoch 41/1000\n",
      "96/96 - 0s - loss: 4.6772 - val_loss: 6.3022\n",
      "Epoch 42/1000\n",
      "96/96 - 0s - loss: 4.5279 - val_loss: 4.6168\n",
      "Epoch 43/1000\n",
      "96/96 - 0s - loss: 4.1260 - val_loss: 4.4278\n",
      "Epoch 44/1000\n",
      "96/96 - 0s - loss: 4.1028 - val_loss: 4.6492\n",
      "Epoch 45/1000\n",
      "96/96 - 0s - loss: 3.9804 - val_loss: 4.4006\n",
      "Epoch 46/1000\n",
      "96/96 - 0s - loss: 4.2273 - val_loss: 4.2958\n",
      "Epoch 47/1000\n",
      "96/96 - 0s - loss: 4.5785 - val_loss: 5.0309\n",
      "Epoch 48/1000\n",
      "96/96 - 0s - loss: 4.1226 - val_loss: 4.6492\n",
      "Epoch 49/1000\n",
      "96/96 - 0s - loss: 4.3681 - val_loss: 6.2292\n",
      "Epoch 50/1000\n",
      "96/96 - 0s - loss: 3.9767 - val_loss: 3.9367\n",
      "Epoch 51/1000\n",
      "96/96 - 0s - loss: 3.6104 - val_loss: 3.8961\n",
      "Epoch 52/1000\n",
      "96/96 - 0s - loss: 3.8083 - val_loss: 4.2909\n",
      "Epoch 53/1000\n",
      "96/96 - 0s - loss: 3.9820 - val_loss: 3.7734\n",
      "Epoch 54/1000\n",
      "96/96 - 0s - loss: 3.9183 - val_loss: 3.8023\n",
      "Epoch 55/1000\n",
      "96/96 - 0s - loss: 3.5178 - val_loss: 4.2497\n",
      "Epoch 56/1000\n",
      "96/96 - 0s - loss: 3.6569 - val_loss: 4.0996\n",
      "Epoch 57/1000\n",
      "96/96 - 0s - loss: 3.6045 - val_loss: 3.6391\n",
      "Epoch 58/1000\n",
      "96/96 - 0s - loss: 3.5023 - val_loss: 3.6045\n",
      "Epoch 59/1000\n",
      "96/96 - 0s - loss: 3.4292 - val_loss: 3.5491\n",
      "Epoch 60/1000\n",
      "96/96 - 0s - loss: 3.3924 - val_loss: 5.3639\n",
      "Epoch 61/1000\n",
      "96/96 - 0s - loss: 3.5792 - val_loss: 3.6764\n",
      "Epoch 62/1000\n",
      "96/96 - 0s - loss: 3.8044 - val_loss: 3.8646\n",
      "Epoch 63/1000\n",
      "96/96 - 0s - loss: 3.4152 - val_loss: 4.7498\n",
      "Epoch 64/1000\n",
      "96/96 - 0s - loss: 3.1521 - val_loss: 4.4777\n",
      "Epoch 65/1000\n",
      "96/96 - 0s - loss: 3.5017 - val_loss: 3.6890\n",
      "Epoch 66/1000\n",
      "96/96 - 0s - loss: 3.3990 - val_loss: 3.3063\n",
      "Epoch 67/1000\n",
      "96/96 - 0s - loss: 3.2759 - val_loss: 3.3752\n",
      "Epoch 68/1000\n",
      "96/96 - 0s - loss: 2.9592 - val_loss: 3.3229\n",
      "Epoch 69/1000\n",
      "96/96 - 0s - loss: 3.2024 - val_loss: 3.3514\n",
      "Epoch 70/1000\n",
      "96/96 - 0s - loss: 2.9423 - val_loss: 3.1883\n",
      "Epoch 71/1000\n",
      "96/96 - 0s - loss: 3.1679 - val_loss: 5.0805\n",
      "Epoch 72/1000\n",
      "96/96 - 0s - loss: 3.1954 - val_loss: 3.1972\n",
      "Epoch 73/1000\n",
      "96/96 - 0s - loss: 2.9129 - val_loss: 3.5813\n",
      "Epoch 74/1000\n",
      "96/96 - 0s - loss: 2.7975 - val_loss: 3.4236\n",
      "Epoch 75/1000\n",
      "96/96 - 0s - loss: 2.8293 - val_loss: 4.0455\n",
      "Epoch 76/1000\n",
      "96/96 - 0s - loss: 2.7585 - val_loss: 3.0158\n",
      "Epoch 77/1000\n",
      "96/96 - 0s - loss: 2.9574 - val_loss: 3.2603\n",
      "Epoch 78/1000\n",
      "96/96 - 0s - loss: 2.9026 - val_loss: 3.2124\n",
      "Epoch 79/1000\n",
      "96/96 - 0s - loss: 3.6197 - val_loss: 3.1880\n",
      "Epoch 80/1000\n",
      "96/96 - 0s - loss: 3.4192 - val_loss: 2.9750\n",
      "Epoch 81/1000\n",
      "96/96 - 0s - loss: 2.8216 - val_loss: 3.5960\n",
      "Epoch 82/1000\n",
      "96/96 - 0s - loss: 2.6538 - val_loss: 2.8861\n",
      "Epoch 83/1000\n",
      "96/96 - 0s - loss: 2.7185 - val_loss: 3.1721\n",
      "Epoch 84/1000\n",
      "96/96 - 0s - loss: 3.0295 - val_loss: 3.2026\n",
      "Epoch 85/1000\n",
      "96/96 - 0s - loss: 2.8124 - val_loss: 4.8589\n",
      "Epoch 86/1000\n",
      "96/96 - 0s - loss: 2.9188 - val_loss: 2.7875\n",
      "Epoch 87/1000\n",
      "96/96 - 0s - loss: 2.5693 - val_loss: 3.4142\n",
      "Epoch 88/1000\n",
      "96/96 - 0s - loss: 2.7049 - val_loss: 2.7621\n",
      "Epoch 89/1000\n",
      "96/96 - 0s - loss: 2.4443 - val_loss: 3.5156\n",
      "Epoch 90/1000\n",
      "96/96 - 0s - loss: 2.7731 - val_loss: 3.2475\n",
      "Epoch 91/1000\n",
      "96/96 - 0s - loss: 2.4339 - val_loss: 2.7934\n",
      "Epoch 92/1000\n",
      "96/96 - 0s - loss: 2.6930 - val_loss: 3.3215\n",
      "Epoch 93/1000\n",
      "96/96 - 0s - loss: 2.8613 - val_loss: 2.6628\n",
      "Epoch 94/1000\n",
      "96/96 - 0s - loss: 2.7207 - val_loss: 3.0664\n",
      "Epoch 95/1000\n",
      "96/96 - 0s - loss: 2.5797 - val_loss: 2.8584\n",
      "Epoch 96/1000\n",
      "96/96 - 0s - loss: 2.5866 - val_loss: 2.8949\n",
      "Epoch 97/1000\n",
      "96/96 - 0s - loss: 2.3346 - val_loss: 2.7497\n",
      "Epoch 98/1000\n",
      "96/96 - 0s - loss: 2.7814 - val_loss: 3.1965\n",
      "Epoch 99/1000\n",
      "96/96 - 0s - loss: 2.4734 - val_loss: 3.1700\n",
      "Epoch 100/1000\n",
      "96/96 - 0s - loss: 2.7698 - val_loss: 7.7434\n",
      "Epoch 101/1000\n",
      "96/96 - 0s - loss: 3.4203 - val_loss: 4.2380\n",
      "Epoch 102/1000\n",
      "96/96 - 0s - loss: 2.5718 - val_loss: 2.9758\n",
      "Epoch 103/1000\n",
      "96/96 - 0s - loss: 2.4689 - val_loss: 2.5595\n",
      "Epoch 104/1000\n",
      "96/96 - 0s - loss: 2.5172 - val_loss: 2.5154\n",
      "Epoch 105/1000\n",
      "96/96 - 0s - loss: 2.2727 - val_loss: 2.5046\n",
      "Epoch 106/1000\n",
      "96/96 - 0s - loss: 2.8335 - val_loss: 2.6525\n",
      "Epoch 107/1000\n",
      "96/96 - 0s - loss: 2.2811 - val_loss: 2.6842\n",
      "Epoch 108/1000\n",
      "96/96 - 0s - loss: 2.6338 - val_loss: 2.7226\n",
      "Epoch 109/1000\n",
      "96/96 - 0s - loss: 2.2330 - val_loss: 2.7063\n",
      "Epoch 110/1000\n",
      "96/96 - 0s - loss: 2.6836 - val_loss: 3.3409\n",
      "Epoch 111/1000\n",
      "96/96 - 0s - loss: 2.3302 - val_loss: 2.5875\n",
      "Epoch 112/1000\n",
      "96/96 - 0s - loss: 2.3076 - val_loss: 4.9289\n",
      "Epoch 113/1000\n",
      "96/96 - 0s - loss: 2.9675 - val_loss: 3.0250\n",
      "Epoch 114/1000\n",
      "96/96 - 0s - loss: 2.2939 - val_loss: 2.4397\n",
      "Epoch 115/1000\n",
      "96/96 - 0s - loss: 2.2440 - val_loss: 3.8783\n",
      "Epoch 116/1000\n",
      "96/96 - 0s - loss: 2.2105 - val_loss: 2.3659\n",
      "Epoch 117/1000\n",
      "96/96 - 0s - loss: 2.1071 - val_loss: 2.9634\n",
      "Epoch 118/1000\n",
      "96/96 - 0s - loss: 2.5953 - val_loss: 2.6990\n",
      "Epoch 119/1000\n",
      "96/96 - 0s - loss: 2.1395 - val_loss: 2.9031\n",
      "Epoch 120/1000\n",
      "96/96 - 0s - loss: 2.3685 - val_loss: 2.8346\n",
      "Epoch 121/1000\n",
      "96/96 - 0s - loss: 2.3359 - val_loss: 2.4169\n",
      "Epoch 122/1000\n",
      "96/96 - 0s - loss: 2.6467 - val_loss: 3.2558\n",
      "Epoch 123/1000\n",
      "96/96 - 0s - loss: 2.8827 - val_loss: 2.3214\n",
      "Epoch 124/1000\n",
      "96/96 - 0s - loss: 2.0021 - val_loss: 2.4660\n",
      "Epoch 125/1000\n",
      "96/96 - 0s - loss: 2.3279 - val_loss: 2.3182\n",
      "Epoch 126/1000\n",
      "96/96 - 0s - loss: 2.0135 - val_loss: 2.5716\n",
      "Epoch 127/1000\n",
      "96/96 - 0s - loss: 2.1000 - val_loss: 2.4013\n",
      "Epoch 128/1000\n",
      "96/96 - 0s - loss: 2.0401 - val_loss: 2.6541\n",
      "Epoch 129/1000\n",
      "96/96 - 0s - loss: 2.0643 - val_loss: 3.6888\n",
      "Epoch 130/1000\n",
      "96/96 - 0s - loss: 2.3588 - val_loss: 2.3363\n",
      "Epoch 131/1000\n",
      "96/96 - 0s - loss: 2.0449 - val_loss: 2.2548\n",
      "Epoch 132/1000\n",
      "96/96 - 0s - loss: 2.5515 - val_loss: 2.8127\n",
      "Epoch 133/1000\n",
      "96/96 - 0s - loss: 2.1975 - val_loss: 3.0893\n",
      "Epoch 134/1000\n",
      "96/96 - 0s - loss: 2.3354 - val_loss: 2.2703\n",
      "Epoch 135/1000\n",
      "96/96 - 0s - loss: 2.1521 - val_loss: 2.3417\n",
      "Epoch 136/1000\n",
      "96/96 - 0s - loss: 1.9665 - val_loss: 2.3983\n",
      "Epoch 137/1000\n",
      "96/96 - 0s - loss: 2.1954 - val_loss: 2.2426\n",
      "Epoch 138/1000\n",
      "96/96 - 0s - loss: 2.3110 - val_loss: 4.6513\n",
      "Epoch 139/1000\n"
     ]
    },
    {
     "name": "stdout",
     "output_type": "stream",
     "text": [
      "96/96 - 0s - loss: 2.2654 - val_loss: 3.5359\n",
      "Epoch 140/1000\n",
      "96/96 - 0s - loss: 2.1204 - val_loss: 2.4292\n",
      "Epoch 141/1000\n",
      "96/96 - 0s - loss: 2.1992 - val_loss: 2.3721\n",
      "Epoch 142/1000\n",
      "96/96 - 0s - loss: 1.9246 - val_loss: 2.1758\n",
      "Epoch 143/1000\n",
      "96/96 - 0s - loss: 2.0627 - val_loss: 2.3280\n",
      "Epoch 144/1000\n",
      "96/96 - 0s - loss: 1.9486 - val_loss: 3.2467\n",
      "Epoch 145/1000\n",
      "96/96 - 0s - loss: 2.1884 - val_loss: 2.3426\n",
      "Epoch 146/1000\n",
      "96/96 - 0s - loss: 2.0597 - val_loss: 2.2201\n",
      "Epoch 147/1000\n",
      "96/96 - 0s - loss: 1.9646 - val_loss: 2.2548\n",
      "Epoch 148/1000\n",
      "96/96 - 0s - loss: 2.2381 - val_loss: 2.1599\n",
      "Epoch 149/1000\n",
      "96/96 - 0s - loss: 1.8610 - val_loss: 2.1153\n",
      "Epoch 150/1000\n",
      "96/96 - 0s - loss: 1.8090 - val_loss: 2.1893\n",
      "Epoch 151/1000\n",
      "96/96 - 0s - loss: 2.0277 - val_loss: 3.5125\n",
      "Epoch 152/1000\n",
      "96/96 - 0s - loss: 1.7969 - val_loss: 2.1948\n",
      "Epoch 153/1000\n",
      "96/96 - 0s - loss: 2.0569 - val_loss: 2.9251\n",
      "Epoch 154/1000\n",
      "96/96 - 0s - loss: 2.5149 - val_loss: 2.2415\n",
      "Epoch 155/1000\n",
      "96/96 - 0s - loss: 1.9729 - val_loss: 2.5377\n",
      "Epoch 156/1000\n",
      "96/96 - 0s - loss: 1.9813 - val_loss: 2.1300\n",
      "Epoch 157/1000\n",
      "96/96 - 0s - loss: 1.9193 - val_loss: 2.1782\n",
      "Epoch 158/1000\n",
      "96/96 - 0s - loss: 2.0047 - val_loss: 2.4840\n",
      "Epoch 159/1000\n",
      "96/96 - 0s - loss: 1.8782 - val_loss: 2.0915\n",
      "Epoch 160/1000\n",
      "96/96 - 0s - loss: 1.8648 - val_loss: 2.0469\n",
      "Epoch 161/1000\n",
      "96/96 - 0s - loss: 1.8046 - val_loss: 2.3059\n",
      "Epoch 162/1000\n",
      "96/96 - 0s - loss: 2.1618 - val_loss: 2.1381\n",
      "Epoch 163/1000\n",
      "96/96 - 0s - loss: 1.9706 - val_loss: 2.0851\n",
      "Epoch 164/1000\n",
      "96/96 - 0s - loss: 1.9069 - val_loss: 2.5779\n",
      "Epoch 165/1000\n",
      "96/96 - 0s - loss: 1.7001 - val_loss: 2.2228\n",
      "Epoch 166/1000\n",
      "96/96 - 0s - loss: 1.8135 - val_loss: 2.3808\n",
      "Epoch 167/1000\n",
      "96/96 - 0s - loss: 2.4806 - val_loss: 3.5936\n",
      "Epoch 168/1000\n",
      "96/96 - 0s - loss: 2.0236 - val_loss: 2.7032\n",
      "Epoch 169/1000\n",
      "96/96 - 0s - loss: 1.7309 - val_loss: 2.0534\n",
      "Epoch 170/1000\n",
      "96/96 - 0s - loss: 2.4974 - val_loss: 2.1239\n",
      "Epoch 00170: early stopping\n"
     ]
    },
    {
     "data": {
      "text/plain": [
       "<tensorflow.python.keras.callbacks.History at 0x7fa1b5632ac0>"
      ]
     },
     "execution_count": 31,
     "metadata": {},
     "output_type": "execute_result"
    }
   ],
   "source": [
    "from tensorflow.keras import regularizers\n",
    "\n",
    "model = Sequential()\n",
    "model.add(Dense(256, input_dim=35, activation='tanh'))\n",
    "model.add(Dense(128,activation='relu'))\n",
    "model.add(Dense(64,  kernel_regularizer=regularizers.l1(0.01),\n",
    "                     activity_regularizer=regularizers.l2(0.01), activation='relu'))\n",
    "model.add(Dense(1))\n",
    "\n",
    "model.compile(loss='mean_squared_error', optimizer='adam')\n",
    "monitor = EarlyStopping(monitor='val_loss', min_delta=1e-3, patience=10, verbose=1, mode='auto')\n",
    "\n",
    "checkpointer = ModelCheckpoint(filepath=\"best_weights.hdf5\", verbose=0, save_best_only=True) # save best model\n",
    "\n",
    "model.fit(X_tr_re, y_train,validation_data=(X_te_re,y_test),callbacks=[monitor],verbose=2,epochs=1000)\n"
   ]
  },
  {
   "cell_type": "code",
   "execution_count": 32,
   "metadata": {},
   "outputs": [
    {
     "name": "stdout",
     "output_type": "stream",
     "text": [
      "Score_train (RMSE): 0.91777833510478\n",
      "Score_test (RMSE): 1.1195497699507053\n"
     ]
    },
    {
     "data": {
      "image/png": "[encoded data removed]",
      "text/plain": [
       "<Figure size 432x288 with 1 Axes>"
      ]
     },
     "metadata": {
      "needs_background": "light"
     },
     "output_type": "display_data"
    },
    {
     "data": {
      "image/png": "[encoded data removed]",
      "text/plain": [
       "<Figure size 432x288 with 1 Axes>"
      ]
     },
     "metadata": {
      "needs_background": "light"
     },
     "output_type": "display_data"
    }
   ],
   "source": [
    "\n",
    "pred_train = model.predict(X_tr_re)\n",
    "score_train = np.sqrt(metrics.mean_squared_error(pred_train,y_train))\n",
    "pred_test = model.predict(X_te_re)\n",
    "score_test = np.sqrt(metrics.mean_squared_error(pred_test,y_test))\n",
    "print(\"Score_train (RMSE): {}\".format(score_train))\n",
    "print(\"Score_test (RMSE): {}\".format(score_test))\n",
    "\n",
    "#chart_regression(pred.flatten(),y_lstm_seq_test, sort=True)\n",
    "chart_regression(pred_train.flatten(),y_train, sort=True)\n",
    "chart_regression(pred_test.flatten(),y_test, sort=False)"
   ]
  },
  {
   "cell_type": "code",
   "execution_count": 33,
   "metadata": {},
   "outputs": [
    {
     "name": "stdout",
     "output_type": "stream",
     "text": [
      "R2 score 0.9985704244070049\n"
     ]
    }
   ],
   "source": [
    "print(\"R2 score\",metrics.r2_score(y_test,pred_test))"
   ]
  },
  {
   "cell_type": "markdown",
   "metadata": {},
   "source": [
    "## LSTM"
   ]
  },
  {
   "cell_type": "code",
   "execution_count": 34,
   "metadata": {},
   "outputs": [
    {
     "name": "stdout",
     "output_type": "stream",
     "text": [
      "Epoch 1/1000\n",
      "96/96 - 1s - loss: 1177.1539 - val_loss: 763.1726\n",
      "Epoch 2/1000\n",
      "96/96 - 1s - loss: 651.4116 - val_loss: 504.0492\n",
      "Epoch 3/1000\n",
      "96/96 - 0s - loss: 449.2348 - val_loss: 360.6415\n",
      "Epoch 4/1000\n",
      "96/96 - 0s - loss: 326.0652 - val_loss: 262.9069\n",
      "Epoch 5/1000\n",
      "96/96 - 0s - loss: 239.5699 - val_loss: 192.3513\n",
      "Epoch 6/1000\n",
      "96/96 - 0s - loss: 178.0371 - val_loss: 141.3067\n",
      "Epoch 7/1000\n",
      "96/96 - 0s - loss: 133.4328 - val_loss: 107.7489\n",
      "Epoch 8/1000\n",
      "96/96 - 0s - loss: 101.2680 - val_loss: 81.8182\n",
      "Epoch 9/1000\n",
      "96/96 - 0s - loss: 80.2845 - val_loss: 67.8669\n",
      "Epoch 10/1000\n",
      "96/96 - 0s - loss: 64.9849 - val_loss: 54.3345\n",
      "Epoch 11/1000\n",
      "96/96 - 0s - loss: 52.0826 - val_loss: 39.6306\n",
      "Epoch 12/1000\n",
      "96/96 - 0s - loss: 41.1460 - val_loss: 30.9036\n",
      "Epoch 13/1000\n",
      "96/96 - 0s - loss: 35.2858 - val_loss: 26.0760\n",
      "Epoch 14/1000\n",
      "96/96 - 0s - loss: 31.0337 - val_loss: 19.8225\n",
      "Epoch 15/1000\n",
      "96/96 - 0s - loss: 26.2183 - val_loss: 17.3488\n",
      "Epoch 16/1000\n",
      "96/96 - 0s - loss: 22.7976 - val_loss: 16.5431\n",
      "Epoch 17/1000\n",
      "96/96 - 0s - loss: 19.4190 - val_loss: 11.6915\n",
      "Epoch 18/1000\n",
      "96/96 - 0s - loss: 18.5585 - val_loss: 9.9294\n",
      "Epoch 19/1000\n",
      "96/96 - 0s - loss: 16.4346 - val_loss: 9.6040\n",
      "Epoch 20/1000\n",
      "96/96 - 0s - loss: 15.8508 - val_loss: 9.8799\n",
      "Epoch 21/1000\n",
      "96/96 - 0s - loss: 13.4108 - val_loss: 8.6307\n",
      "Epoch 22/1000\n",
      "96/96 - 0s - loss: 13.8141 - val_loss: 6.2958\n",
      "Epoch 23/1000\n",
      "96/96 - 0s - loss: 11.7913 - val_loss: 5.4981\n",
      "Epoch 24/1000\n",
      "96/96 - 0s - loss: 13.2881 - val_loss: 6.3092\n",
      "Epoch 25/1000\n",
      "96/96 - 0s - loss: 12.1225 - val_loss: 6.9532\n",
      "Epoch 26/1000\n",
      "96/96 - 0s - loss: 12.2998 - val_loss: 5.1522\n",
      "Epoch 27/1000\n",
      "96/96 - 0s - loss: 12.5151 - val_loss: 8.5838\n",
      "Epoch 28/1000\n",
      "96/96 - 0s - loss: 12.1081 - val_loss: 4.2508\n",
      "Epoch 29/1000\n",
      "96/96 - 0s - loss: 10.4919 - val_loss: 4.2806\n",
      "Epoch 30/1000\n",
      "96/96 - 0s - loss: 9.8805 - val_loss: 5.1384\n",
      "Epoch 31/1000\n",
      "96/96 - 0s - loss: 8.9602 - val_loss: 4.5400\n",
      "Epoch 32/1000\n",
      "96/96 - 0s - loss: 10.1987 - val_loss: 3.8186\n",
      "Epoch 33/1000\n",
      "96/96 - 0s - loss: 10.3267 - val_loss: 4.2687\n",
      "Epoch 34/1000\n",
      "96/96 - 0s - loss: 9.0397 - val_loss: 5.2011\n",
      "Epoch 35/1000\n",
      "96/96 - 0s - loss: 9.5887 - val_loss: 5.6188\n",
      "Epoch 36/1000\n",
      "96/96 - 0s - loss: 8.4490 - val_loss: 4.3814\n",
      "Epoch 37/1000\n",
      "96/96 - 0s - loss: 8.9351 - val_loss: 3.9774\n",
      "Epoch 38/1000\n",
      "96/96 - 0s - loss: 9.6601 - val_loss: 3.8031\n",
      "Epoch 39/1000\n",
      "96/96 - 0s - loss: 8.7745 - val_loss: 3.7957\n",
      "Epoch 40/1000\n",
      "96/96 - 0s - loss: 8.2879 - val_loss: 3.5233\n",
      "Epoch 41/1000\n",
      "96/96 - 0s - loss: 8.8142 - val_loss: 5.4715\n",
      "Epoch 42/1000\n",
      "96/96 - 0s - loss: 7.2028 - val_loss: 7.1978\n",
      "Epoch 43/1000\n",
      "96/96 - 0s - loss: 8.4264 - val_loss: 3.1556\n",
      "Epoch 44/1000\n",
      "96/96 - 0s - loss: 7.6490 - val_loss: 3.3343\n",
      "Epoch 45/1000\n",
      "96/96 - 0s - loss: 9.4071 - val_loss: 5.4375\n",
      "Epoch 46/1000\n",
      "96/96 - 0s - loss: 9.4196 - val_loss: 3.8821\n",
      "Epoch 47/1000\n",
      "96/96 - 0s - loss: 8.3705 - val_loss: 3.8365\n",
      "Epoch 48/1000\n",
      "96/96 - 0s - loss: 8.3684 - val_loss: 3.0388\n",
      "Epoch 49/1000\n",
      "96/96 - 0s - loss: 8.7207 - val_loss: 2.7533\n",
      "Epoch 50/1000\n",
      "96/96 - 0s - loss: 7.5528 - val_loss: 2.9540\n",
      "Epoch 51/1000\n",
      "96/96 - 0s - loss: 8.1352 - val_loss: 3.2744\n",
      "Epoch 52/1000\n",
      "96/96 - 0s - loss: 7.7512 - val_loss: 3.0173\n",
      "Epoch 53/1000\n",
      "96/96 - 0s - loss: 8.9003 - val_loss: 3.2257\n",
      "Epoch 54/1000\n",
      "96/96 - 0s - loss: 7.8802 - val_loss: 3.7427\n",
      "Epoch 55/1000\n",
      "96/96 - 0s - loss: 8.0517 - val_loss: 2.8059\n",
      "Epoch 56/1000\n",
      "96/96 - 0s - loss: 8.1829 - val_loss: 3.6121\n",
      "Epoch 57/1000\n",
      "96/96 - 0s - loss: 7.3649 - val_loss: 4.6087\n",
      "Epoch 58/1000\n",
      "96/96 - 0s - loss: 7.4287 - val_loss: 2.7618\n",
      "Epoch 59/1000\n",
      "96/96 - 1s - loss: 7.5227 - val_loss: 6.4061\n",
      "Epoch 00059: early stopping\n"
     ]
    },
    {
     "data": {
      "text/plain": [
       "<tensorflow.python.keras.callbacks.History at 0x7fa1b72acbb0>"
      ]
     },
     "execution_count": 34,
     "metadata": {},
     "output_type": "execute_result"
    }
   ],
   "source": [
    "from tensorflow.keras.layers import LSTM\n",
    "from tensorflow.keras.layers import Conv2D, MaxPooling2D\n",
    "model = Sequential()\n",
    "look_back=5;\n",
    "# create and fit the LSTM network\n",
    "model = Sequential()\n",
    "model.add(LSTM(128, dropout=0.1, input_shape=(7,look_back)))\n",
    "model.add(Dense(1))\n",
    "model.compile(loss='mean_squared_error', optimizer='adam')\n",
    "monitor = EarlyStopping(monitor='val_loss', min_delta=1e-3, patience=10, verbose=1, mode='auto')\n",
    "checkpointer = ModelCheckpoint(filepath=\"best_weights.hdf5\", verbose=0, save_best_only=True) # save best model\n",
    "\n",
    "model.fit(X_train, y_train,validation_data=(X_test,y_test),callbacks=[monitor],verbose=2,epochs=1000)\n"
   ]
  },
  {
   "cell_type": "code",
   "execution_count": 35,
   "metadata": {},
   "outputs": [
    {
     "name": "stdout",
     "output_type": "stream",
     "text": [
      "Score_train (RMSE): 2.3942369512785087\n",
      "Score_test (RMSE): 2.531036943033939\n"
     ]
    },
    {
     "data": {
      "image/png": "[encoded data removed]",
      "text/plain": [
       "<Figure size 432x288 with 1 Axes>"
      ]
     },
     "metadata": {
      "needs_background": "light"
     },
     "output_type": "display_data"
    },
    {
     "data": {
      "image/png": "[encoded data removed]",
      "text/plain": [
       "<Figure size 432x288 with 1 Axes>"
      ]
     },
     "metadata": {
      "needs_background": "light"
     },
     "output_type": "display_data"
    }
   ],
   "source": [
    "pred_train = model.predict(X_train)\n",
    "score_train = np.sqrt(metrics.mean_squared_error(pred_train,y_train))\n",
    "pred_test = model.predict(X_test)\n",
    "score_test = np.sqrt(metrics.mean_squared_error(pred_test,y_test))\n",
    "print(\"Score_train (RMSE): {}\".format(score_train))\n",
    "print(\"Score_test (RMSE): {}\".format(score_test))\n",
    "\n",
    "#chart_regression(pred.flatten(),y_lstm_seq_test, sort=True)\n",
    "chart_regression(pred_train.flatten(),y_train, sort=True)\n",
    "chart_regression(pred_test.flatten(),y_test, sort=False)"
   ]
  },
  {
   "cell_type": "code",
   "execution_count": 36,
   "metadata": {},
   "outputs": [
    {
     "name": "stdout",
     "output_type": "stream",
     "text": [
      "R2 score 0.9926933671828106\n"
     ]
    }
   ],
   "source": [
    "print(\"R2 score\",metrics.r2_score(y_test,pred_test))"
   ]
  },
  {
   "cell_type": "markdown",
   "metadata": {},
   "source": [
    "## Tuning the parameters \n",
    "<pre>\n",
    "  Activation:  sigmoid\n",
    "  Number of layers and neuron count in each layer\n",
    "  Optimizer: adam \n",
    "  Number of LSTM layers and neuron count in each layer : 2, (128,64)</pre>"
   ]
  },
  {
   "cell_type": "code",
   "execution_count": 37,
   "metadata": {},
   "outputs": [
    {
     "name": "stdout",
     "output_type": "stream",
     "text": [
      "Epoch 1/1000\n",
      "96/96 - 1s - loss: 990.2831 - val_loss: 804.6890\n",
      "Epoch 2/1000\n",
      "96/96 - 1s - loss: 676.2104 - val_loss: 379.3260\n",
      "Epoch 3/1000\n",
      "96/96 - 0s - loss: 82.8990 - val_loss: 17.0752\n",
      "Epoch 4/1000\n",
      "96/96 - 0s - loss: 18.3922 - val_loss: 10.5057\n",
      "Epoch 5/1000\n",
      "96/96 - 1s - loss: 14.4750 - val_loss: 7.0137\n",
      "Epoch 6/1000\n",
      "96/96 - 1s - loss: 11.8697 - val_loss: 5.5962\n",
      "Epoch 7/1000\n",
      "96/96 - 1s - loss: 10.9038 - val_loss: 8.1113\n",
      "Epoch 8/1000\n",
      "96/96 - 0s - loss: 9.7566 - val_loss: 4.4225\n",
      "Epoch 9/1000\n",
      "96/96 - 0s - loss: 9.9678 - val_loss: 3.2673\n",
      "Epoch 10/1000\n",
      "96/96 - 0s - loss: 10.7467 - val_loss: 4.0233\n",
      "Epoch 11/1000\n",
      "96/96 - 0s - loss: 9.9218 - val_loss: 5.1627\n",
      "Epoch 12/1000\n",
      "96/96 - 0s - loss: 9.4189 - val_loss: 3.6051\n",
      "Epoch 13/1000\n",
      "96/96 - 0s - loss: 10.0392 - val_loss: 7.2137\n",
      "Epoch 14/1000\n",
      "96/96 - 0s - loss: 9.6434 - val_loss: 3.9192\n",
      "Epoch 15/1000\n",
      "96/96 - 0s - loss: 9.1506 - val_loss: 3.5206\n",
      "Epoch 16/1000\n",
      "96/96 - 0s - loss: 9.6879 - val_loss: 6.2407\n",
      "Epoch 17/1000\n",
      "96/96 - 0s - loss: 9.0668 - val_loss: 5.7857\n",
      "Epoch 18/1000\n",
      "96/96 - 0s - loss: 8.9593 - val_loss: 3.0656\n",
      "Epoch 19/1000\n",
      "96/96 - 0s - loss: 9.8612 - val_loss: 3.0157\n",
      "Epoch 20/1000\n",
      "96/96 - 0s - loss: 9.8568 - val_loss: 4.9751\n",
      "Epoch 21/1000\n",
      "96/96 - 0s - loss: 9.1798 - val_loss: 4.1128\n",
      "Epoch 22/1000\n",
      "96/96 - 0s - loss: 8.7413 - val_loss: 3.0997\n",
      "Epoch 23/1000\n",
      "96/96 - 0s - loss: 9.1202 - val_loss: 2.4732\n",
      "Epoch 24/1000\n",
      "96/96 - 0s - loss: 8.9501 - val_loss: 3.2998\n",
      "Epoch 25/1000\n",
      "96/96 - 0s - loss: 8.3982 - val_loss: 3.9130\n",
      "Epoch 26/1000\n",
      "96/96 - 0s - loss: 10.3517 - val_loss: 2.5161\n",
      "Epoch 27/1000\n",
      "96/96 - 0s - loss: 8.6395 - val_loss: 2.5608\n",
      "Epoch 28/1000\n",
      "96/96 - 0s - loss: 8.7766 - val_loss: 5.0870\n",
      "Epoch 29/1000\n",
      "96/96 - 0s - loss: 8.8964 - val_loss: 3.6055\n",
      "Epoch 30/1000\n",
      "96/96 - 0s - loss: 8.3003 - val_loss: 3.1297\n",
      "Epoch 31/1000\n",
      "96/96 - 0s - loss: 8.9870 - val_loss: 2.3524\n",
      "Epoch 32/1000\n",
      "96/96 - 0s - loss: 8.5930 - val_loss: 3.2306\n",
      "Epoch 33/1000\n",
      "96/96 - 0s - loss: 9.2572 - val_loss: 4.5765\n",
      "Epoch 34/1000\n",
      "96/96 - 1s - loss: 9.5489 - val_loss: 3.1934\n",
      "Epoch 35/1000\n",
      "96/96 - 0s - loss: 9.6254 - val_loss: 3.3739\n",
      "Epoch 36/1000\n",
      "96/96 - 0s - loss: 8.6234 - val_loss: 10.3748\n",
      "Epoch 37/1000\n",
      "96/96 - 0s - loss: 9.7703 - val_loss: 5.1849\n",
      "Epoch 38/1000\n",
      "96/96 - 0s - loss: 8.7455 - val_loss: 2.7135\n",
      "Epoch 39/1000\n",
      "96/96 - 0s - loss: 8.7777 - val_loss: 4.2162\n",
      "Epoch 40/1000\n",
      "96/96 - 0s - loss: 8.6149 - val_loss: 3.5261\n",
      "Epoch 41/1000\n",
      "96/96 - 0s - loss: 8.6681 - val_loss: 3.4778\n",
      "Epoch 00041: early stopping\n"
     ]
    },
    {
     "data": {
      "text/plain": [
       "<tensorflow.python.keras.callbacks.History at 0x7fa1b54d0310>"
      ]
     },
     "execution_count": 37,
     "metadata": {},
     "output_type": "execute_result"
    }
   ],
   "source": [
    "from tensorflow.keras.layers import LSTM\n",
    "from tensorflow.keras.layers import Conv2D, MaxPooling2D\n",
    "model = Sequential()\n",
    "look_back=5;\n",
    "# create and fit the LSTM network\n",
    "model = Sequential()\n",
    "model.add(LSTM(128, dropout=0.1, input_shape=(7,look_back), activation='sigmoid'))\n",
    "model.add(Dense(64))\n",
    "model.add(Dense(1))\n",
    "model.compile(loss='mean_squared_error', optimizer='adam')\n",
    "monitor = EarlyStopping(monitor='val_loss', min_delta=1e-3, patience=10, verbose=1, mode='auto')\n",
    "#checkpointer = ModelCheckpoint(filepath=\"best_weights.hdf5\", verbose=0, save_best_only=True) # save best model\n",
    "\n",
    "model.fit(X_train, y_train,validation_data=(X_test,y_test),callbacks=[monitor],verbose=2,epochs=1000)\n"
   ]
  },
  {
   "cell_type": "code",
   "execution_count": 38,
   "metadata": {},
   "outputs": [
    {
     "name": "stdout",
     "output_type": "stream",
     "text": [
      "Score_train (RMSE): 1.758968442434162\n",
      "Score_test (RMSE): 1.8648732499705263\n"
     ]
    },
    {
     "data": {
      "image/png": "[encoded data removed]",
      "text/plain": [
       "<Figure size 432x288 with 1 Axes>"
      ]
     },
     "metadata": {
      "needs_background": "light"
     },
     "output_type": "display_data"
    },
    {
     "data": {
      "image/png": "[encoded data removed]",
      "text/plain": [
       "<Figure size 432x288 with 1 Axes>"
      ]
     },
     "metadata": {
      "needs_background": "light"
     },
     "output_type": "display_data"
    }
   ],
   "source": [
    "pred_train = model.predict(X_train)\n",
    "score_train = np.sqrt(metrics.mean_squared_error(pred_train,y_train))\n",
    "pred_test = model.predict(X_test)\n",
    "score_test = np.sqrt(metrics.mean_squared_error(pred_test,y_test))\n",
    "print(\"Score_train (RMSE): {}\".format(score_train))\n",
    "print(\"Score_test (RMSE): {}\".format(score_test))\n",
    "\n",
    "#chart_regression(pred.flatten(),y_lstm_seq_test, sort=True)\n",
    "chart_regression(pred_train.flatten(),y_train, sort=True)\n",
    "chart_regression(pred_test.flatten(),y_test, sort=False)"
   ]
  },
  {
   "cell_type": "code",
   "execution_count": 39,
   "metadata": {},
   "outputs": [
    {
     "name": "stdout",
     "output_type": "stream",
     "text": [
      "R2 score 0.9960333950124509\n"
     ]
    }
   ],
   "source": [
    "print(\"R2 score\",metrics.r2_score(y_test,pred_test))"
   ]
  },
  {
   "cell_type": "markdown",
   "metadata": {},
   "source": [
    "## CNN"
   ]
  },
  {
   "cell_type": "code",
   "execution_count": 40,
   "metadata": {},
   "outputs": [
    {
     "data": {
      "text/plain": [
       "(4392, 5)"
      ]
     },
     "execution_count": 40,
     "metadata": {},
     "output_type": "execute_result"
    }
   ],
   "source": [
    "data_df.shape"
   ]
  },
  {
   "cell_type": "code",
   "execution_count": 41,
   "metadata": {},
   "outputs": [],
   "source": [
    "seq_size = 7\n",
    "def to_sequences_cnn(seq_size, data1 ,data2):\n",
    "    x = []\n",
    "    y = []\n",
    "\n",
    "    for i in range(len(data1)-seq_size-1):\n",
    "        #print(i)\n",
    "        window = data1[i:(i+seq_size)]\n",
    "        after_window = data2[i+seq_size]\n",
    "        window = [[x] for x in window]\n",
    "       #print(\"{} - {}\".format(window,after_window))\n",
    "        x.append(window)\n",
    "        y.append(after_window)\n",
    "        \n",
    "    return np.array(x),np.array(y)"
   ]
  },
  {
   "cell_type": "code",
   "execution_count": 42,
   "metadata": {},
   "outputs": [],
   "source": [
    "x_cnn_model,y_cnn_model = to_sequences_cnn(7, data_df, data_close)"
   ]
  },
  {
   "cell_type": "code",
   "execution_count": 43,
   "metadata": {},
   "outputs": [
    {
     "name": "stdout",
     "output_type": "stream",
     "text": [
      "Shape of X: (4384, 7, 1, 5)\n",
      "Shape of Y: (4384,)\n"
     ]
    }
   ],
   "source": [
    "print(\"Shape of X: {}\".format(x_cnn_model.shape))\n",
    "print(\"Shape of Y: {}\".format(y_cnn_model.shape))"
   ]
  },
  {
   "cell_type": "markdown",
   "metadata": {},
   "source": [
    "#### Changing the shape of data into 7 pixels and 5 channels"
   ]
  },
  {
   "cell_type": "code",
   "execution_count": 44,
   "metadata": {},
   "outputs": [],
   "source": [
    "x_cnn_model = x_cnn_model.reshape(4384, 1, 7, 5)"
   ]
  },
  {
   "cell_type": "markdown",
   "metadata": {},
   "source": [
    "#### Splitting the data into test and train"
   ]
  },
  {
   "cell_type": "code",
   "execution_count": 45,
   "metadata": {},
   "outputs": [],
   "source": [
    "x_train_cnn,x_test_cnn,y_train_cnn,y_test_cnn = train_test_split(x_cnn_model,y_cnn_model, test_size=0.3, random_state =42)"
   ]
  },
  {
   "cell_type": "code",
   "execution_count": 46,
   "metadata": {},
   "outputs": [
    {
     "name": "stdout",
     "output_type": "stream",
     "text": [
      "Shape of x_train: (3068, 1, 7, 5)\n",
      "Shape of x_test: (1316, 1, 7, 5)\n"
     ]
    }
   ],
   "source": [
    "print(\"Shape of x_train: {}\".format(x_train_cnn.shape))\n",
    "print(\"Shape of x_test: {}\".format(x_test_cnn.shape))"
   ]
  },
  {
   "cell_type": "code",
   "execution_count": 47,
   "metadata": {},
   "outputs": [
    {
     "name": "stdout",
     "output_type": "stream",
     "text": [
      "Shape of y_train: (3068,)\n",
      "Shape of y_test: (1316,)\n"
     ]
    }
   ],
   "source": [
    "print(\"Shape of y_train: {}\".format(y_train_cnn.shape))\n",
    "print(\"Shape of y_test: {}\".format(y_test_cnn.shape))"
   ]
  },
  {
   "cell_type": "code",
   "execution_count": 48,
   "metadata": {},
   "outputs": [],
   "source": [
    "import tensorflow as tf\n",
    "from tensorflow.keras.models import Sequential\n",
    "from tensorflow.keras.layers import Dense, Dropout, Flatten\n",
    "from tensorflow.keras.layers import Conv2D, MaxPooling2D\n",
    "from tensorflow.keras.callbacks import EarlyStopping\n",
    "from tensorflow.keras.callbacks import ModelCheckpoint"
   ]
  },
  {
   "cell_type": "code",
   "execution_count": 49,
   "metadata": {},
   "outputs": [
    {
     "name": "stdout",
     "output_type": "stream",
     "text": [
      "Model: \"sequential_6\"\n",
      "_________________________________________________________________\n",
      "Layer (type)                 Output Shape              Param #   \n",
      "=================================================================\n",
      "conv2d (Conv2D)              (None, 1, 7, 32)          1472      \n",
      "_________________________________________________________________\n",
      "max_pooling2d (MaxPooling2D) (None, 1, 4, 32)          0         \n",
      "_________________________________________________________________\n",
      "conv2d_1 (Conv2D)            (None, 1, 4, 64)          18496     \n",
      "_________________________________________________________________\n",
      "max_pooling2d_1 (MaxPooling2 (None, 1, 2, 64)          0         \n",
      "_________________________________________________________________\n",
      "conv2d_2 (Conv2D)            (None, 1, 2, 128)         73856     \n",
      "_________________________________________________________________\n",
      "max_pooling2d_2 (MaxPooling2 (None, 1, 1, 128)         0         \n",
      "_________________________________________________________________\n",
      "conv2d_3 (Conv2D)            (None, 1, 1, 256)         295168    \n",
      "_________________________________________________________________\n",
      "max_pooling2d_3 (MaxPooling2 (None, 1, 1, 256)         0         \n",
      "_________________________________________________________________\n",
      "flatten (Flatten)            (None, 256)               0         \n",
      "_________________________________________________________________\n",
      "dense_10 (Dense)             (None, 500)               128500    \n",
      "_________________________________________________________________\n",
      "dropout (Dropout)            (None, 500)               0         \n",
      "_________________________________________________________________\n",
      "dense_11 (Dense)             (None, 1)                 501       \n",
      "=================================================================\n",
      "Total params: 517,993\n",
      "Trainable params: 517,993\n",
      "Non-trainable params: 0\n",
      "_________________________________________________________________\n",
      "Epoch 1/1000\n",
      "48/48 - 0s - loss: 826.5587 - val_loss: 320.6411\n",
      "Epoch 2/1000\n",
      "48/48 - 0s - loss: 255.4523 - val_loss: 137.8542\n",
      "Epoch 3/1000\n",
      "48/48 - 0s - loss: 111.8962 - val_loss: 59.2128\n",
      "Epoch 4/1000\n",
      "48/48 - 0s - loss: 54.0951 - val_loss: 32.0641\n",
      "Epoch 5/1000\n",
      "48/48 - 0s - loss: 31.0207 - val_loss: 18.6628\n",
      "Epoch 6/1000\n",
      "48/48 - 0s - loss: 19.2941 - val_loss: 18.3973\n",
      "Epoch 7/1000\n",
      "48/48 - 0s - loss: 12.9344 - val_loss: 7.9030\n",
      "Epoch 8/1000\n",
      "48/48 - 0s - loss: 9.9173 - val_loss: 6.6425\n",
      "Epoch 9/1000\n",
      "48/48 - 0s - loss: 7.5769 - val_loss: 4.4338\n",
      "Epoch 10/1000\n",
      "48/48 - 0s - loss: 8.5002 - val_loss: 3.3380\n",
      "Epoch 11/1000\n",
      "48/48 - 0s - loss: 4.5722 - val_loss: 3.0752\n",
      "Epoch 12/1000\n",
      "48/48 - 0s - loss: 5.3211 - val_loss: 2.3171\n",
      "Epoch 13/1000\n",
      "48/48 - 0s - loss: 5.0257 - val_loss: 2.6148\n",
      "Epoch 14/1000\n",
      "48/48 - 0s - loss: 3.8143 - val_loss: 4.7971\n",
      "Epoch 15/1000\n",
      "48/48 - 0s - loss: 3.7628 - val_loss: 2.8638\n",
      "Epoch 16/1000\n",
      "48/48 - 0s - loss: 4.6541 - val_loss: 3.2159\n",
      "Epoch 17/1000\n",
      "48/48 - 0s - loss: 4.4048 - val_loss: 2.3656\n",
      "Epoch 00017: early stopping\n"
     ]
    },
    {
     "data": {
      "text/plain": [
       "<tensorflow.python.keras.callbacks.History at 0x7fa1b6690a30>"
      ]
     },
     "execution_count": 49,
     "metadata": {},
     "output_type": "execute_result"
    }
   ],
   "source": [
    "cnn_model = Sequential()\n",
    "cnn_model.add(Conv2D(32, kernel_size=(3, 3), strides=(1, 1),activation='tanh',input_shape=(1,7,5),padding='same'))\n",
    "cnn_model.add(MaxPooling2D(pool_size=(2, 2),padding='same'))\n",
    "cnn_model.add(Conv2D(64, kernel_size=(3, 3), strides=(1, 1),activation='tanh',padding='same'))\n",
    "cnn_model.add(MaxPooling2D(pool_size=(2, 2),padding='same'))\n",
    "cnn_model.add(Conv2D(128,kernel_size=(3, 3), strides=(1, 1),activation='tanh',padding='same'))\n",
    "cnn_model.add(MaxPooling2D(pool_size=(2, 2),padding='same'))\n",
    "cnn_model.add(Conv2D(256,kernel_size=(3, 3), strides=(1, 1),activation='tanh',padding='same'))\n",
    "cnn_model.add(MaxPooling2D(pool_size=(2, 2),padding='same'))\n",
    "cnn_model.add(Flatten())\n",
    "cnn_model.add(Dense(500, activation='tanh'))\n",
    "cnn_model.add(Dropout(0.20))\n",
    "cnn_model.add(Dense(1))\n",
    "cnn_model.summary()\n",
    "\n",
    "checkpointer = ModelCheckpoint(filepath=\"best_weights_cnn.hdf5\", verbose=0, save_best_only=True) # save best model\n",
    "cnn_model.compile(loss='mean_squared_error', optimizer='adam')\n",
    "monitor = EarlyStopping(monitor='val_loss', min_delta=1e-4, patience=5, verbose=1, mode='auto')\n",
    "cnn_model.fit(x_train_cnn, y_train_cnn,batch_size=64,validation_data=(x_test_cnn,y_test_cnn),callbacks=[monitor,checkpointer],verbose=2,epochs=1000)\n",
    "\n"
   ]
  },
  {
   "cell_type": "code",
   "execution_count": 50,
   "metadata": {},
   "outputs": [
    {
     "name": "stdout",
     "output_type": "stream",
     "text": [
      "Score (RMSE) : 1.5222146347284295\n",
      "R2 score     : 0.9972309774251573\n",
      "MSE          : 2.317137394181406\n"
     ]
    }
   ],
   "source": [
    "from sklearn import metrics\n",
    "\n",
    "cnn_model.load_weights('best_weights_cnn.hdf5')\n",
    "\n",
    "cnn_model_pred = cnn_model.predict(x_test_cnn)\n",
    "\n",
    "score = np.sqrt(metrics.mean_squared_error(y_test_cnn,cnn_model_pred)) \n",
    "\n",
    "print(\"Score (RMSE) : {}\".format(score))\n",
    "print(\"R2 score     :\",metrics.r2_score(y_test_cnn,cnn_model_pred))\n",
    "print(\"MSE          :\", metrics.mean_squared_error(y_test_cnn, cnn_model_pred))"
   ]
  },
  {
   "cell_type": "code",
   "execution_count": 51,
   "metadata": {},
   "outputs": [
    {
     "data": {
      "image/png": "[encoded data removed]",
      "text/plain": [
       "<Figure size 432x288 with 1 Axes>"
      ]
     },
     "metadata": {
      "needs_background": "light"
     },
     "output_type": "display_data"
    }
   ],
   "source": [
    "chart_regression(cnn_model_pred.flatten(),y_test_cnn)"
   ]
  },
  {
   "cell_type": "code",
   "execution_count": 52,
   "metadata": {},
   "outputs": [
    {
     "data": {
      "image/png": "[encoded data removed]",
      "text/plain": [
       "<Figure size 432x288 with 1 Axes>"
      ]
     },
     "metadata": {
      "needs_background": "light"
     },
     "output_type": "display_data"
    }
   ],
   "source": [
    "chart_regression(cnn_model_pred.flatten(),y_test_cnn,sort=False)"
   ]
  },
  {
   "cell_type": "code",
   "execution_count": 53,
   "metadata": {},
   "outputs": [
    {
     "name": "stdout",
     "output_type": "stream",
     "text": [
      "R2 score 0.9972309774251573\n"
     ]
    }
   ],
   "source": [
    "print(\"R2 score\",metrics.r2_score(y_test_cnn,cnn_model_pred))"
   ]
  },
  {
   "cell_type": "markdown",
   "metadata": {},
   "source": [
    "### Parameter tuning with activation function as sgd and optimizer as relu."
   ]
  },
  {
   "cell_type": "code",
   "execution_count": 56,
   "metadata": {},
   "outputs": [
    {
     "name": "stdout",
     "output_type": "stream",
     "text": [
      "Model: \"sequential_9\"\n",
      "_________________________________________________________________\n",
      "Layer (type)                 Output Shape              Param #   \n",
      "=================================================================\n",
      "conv2d_8 (Conv2D)            (None, 1, 4, 20)          920       \n",
      "_________________________________________________________________\n",
      "max_pooling2d_8 (MaxPooling2 (None, 1, 2, 20)          0         \n",
      "_________________________________________________________________\n",
      "conv2d_9 (Conv2D)            (None, 1, 1, 45)          8145      \n",
      "_________________________________________________________________\n",
      "max_pooling2d_9 (MaxPooling2 (None, 1, 1, 45)          0         \n",
      "_________________________________________________________________\n",
      "conv2d_10 (Conv2D)           (None, 1, 1, 110)         44660     \n",
      "_________________________________________________________________\n",
      "max_pooling2d_10 (MaxPooling (None, 1, 1, 110)         0         \n",
      "_________________________________________________________________\n",
      "conv2d_11 (Conv2D)           (None, 1, 1, 200)         198200    \n",
      "_________________________________________________________________\n",
      "max_pooling2d_11 (MaxPooling (None, 1, 1, 200)         0         \n",
      "_________________________________________________________________\n",
      "flatten_2 (Flatten)          (None, 200)               0         \n",
      "_________________________________________________________________\n",
      "dense_14 (Dense)             (None, 500)               100500    \n",
      "_________________________________________________________________\n",
      "dropout_2 (Dropout)          (None, 500)               0         \n",
      "_________________________________________________________________\n",
      "dense_15 (Dense)             (None, 1)                 501       \n",
      "=================================================================\n",
      "Total params: 352,926\n",
      "Trainable params: 352,926\n",
      "Non-trainable params: 0\n",
      "_________________________________________________________________\n",
      "Epoch 1/1000\n",
      "48/48 - 0s - loss: 1004.8317 - val_loss: 99.5872\n",
      "Epoch 2/1000\n",
      "48/48 - 0s - loss: 31.4381 - val_loss: 2.8588\n",
      "Epoch 3/1000\n",
      "48/48 - 0s - loss: 5.3979 - val_loss: 2.1439\n",
      "Epoch 4/1000\n",
      "48/48 - 0s - loss: 5.1409 - val_loss: 2.3310\n",
      "Epoch 5/1000\n",
      "48/48 - 0s - loss: 5.0731 - val_loss: 2.1040\n",
      "Epoch 6/1000\n",
      "48/48 - 0s - loss: 5.1373 - val_loss: 2.3610\n",
      "Epoch 7/1000\n",
      "48/48 - 0s - loss: 5.6278 - val_loss: 2.0396\n",
      "Epoch 8/1000\n",
      "48/48 - 0s - loss: 5.2688 - val_loss: 2.0414\n",
      "Epoch 9/1000\n",
      "48/48 - 0s - loss: 5.8543 - val_loss: 2.6668\n",
      "Epoch 10/1000\n",
      "48/48 - 0s - loss: 5.7629 - val_loss: 2.9543\n",
      "Epoch 11/1000\n",
      "48/48 - 0s - loss: 5.4755 - val_loss: 2.0401\n",
      "Epoch 12/1000\n",
      "48/48 - 0s - loss: 5.4562 - val_loss: 6.0895\n",
      "Epoch 00012: early stopping\n"
     ]
    },
    {
     "data": {
      "text/plain": [
       "<tensorflow.python.keras.callbacks.History at 0x7fa1bd7d3c10>"
      ]
     },
     "execution_count": 56,
     "metadata": {},
     "output_type": "execute_result"
    }
   ],
   "source": [
    "cnn_model = Sequential()\n",
    "cnn_model.add(Conv2D(20, kernel_size=(3, 3), strides=(2, 2),activation='relu',input_shape=(1,7,5),padding='same'))\n",
    "cnn_model.add(MaxPooling2D(pool_size=(2, 2),padding='same'))\n",
    "cnn_model.add(Conv2D(45, kernel_size=(3, 3), strides=(2, 2),activation='relu',padding='same'))\n",
    "cnn_model.add(MaxPooling2D(pool_size=(2, 2),padding='same'))\n",
    "cnn_model.add(Conv2D(110,kernel_size=(3, 3), strides=(2, 2),activation='relu',padding='same'))\n",
    "cnn_model.add(MaxPooling2D(pool_size=(2, 2),padding='same'))\n",
    "cnn_model.add(Conv2D(200,kernel_size=(3, 3), strides=(2, 2),activation='relu',padding='same'))\n",
    "cnn_model.add(MaxPooling2D(pool_size=(2, 2),padding='same'))\n",
    "cnn_model.add(Flatten())\n",
    "cnn_model.add(Dense(500, activation='relu'))\n",
    "cnn_model.add(Dropout(0.20))\n",
    "cnn_model.add(Dense(1))\n",
    "cnn_model.summary()\n",
    "\n",
    "checkpointer = ModelCheckpoint(filepath=\"best_weights_cnn.hdf5\", verbose=0, save_best_only=True) # save best model\n",
    "cnn_model.compile(loss='mean_squared_error', optimizer='adam')\n",
    "monitor = EarlyStopping(monitor='val_loss', min_delta=1e-4, patience=5, verbose=1, mode='auto')\n",
    "cnn_model.fit(x_train_cnn, y_train_cnn,batch_size=64,validation_data=(x_test_cnn,y_test_cnn),callbacks=[monitor,checkpointer],verbose=2,epochs=1000)\n"
   ]
  },
  {
   "cell_type": "code",
   "execution_count": 57,
   "metadata": {},
   "outputs": [
    {
     "name": "stdout",
     "output_type": "stream",
     "text": [
      "Score (RMSE) : 1.4281422615619583\n",
      "R2 score     : 0.9975626513768059\n",
      "MSE          : 2.039590319259305\n"
     ]
    }
   ],
   "source": [
    "from sklearn import metrics\n",
    "\n",
    "cnn_model.load_weights('best_weights_cnn.hdf5')\n",
    "\n",
    "cnn_model_pred = cnn_model.predict(x_test_cnn)\n",
    "\n",
    "score = np.sqrt(metrics.mean_squared_error(y_test_cnn,cnn_model_pred)) \n",
    "\n",
    "print(\"Score (RMSE) : {}\".format(score))\n",
    "print(\"R2 score     :\",metrics.r2_score(y_test_cnn,cnn_model_pred))\n",
    "print(\"MSE          :\", metrics.mean_squared_error(y_test_cnn, cnn_model_pred))"
   ]
  },
  {
   "cell_type": "code",
   "execution_count": 58,
   "metadata": {},
   "outputs": [
    {
     "data": {
      "image/png": "[encoded data removed]",
      "text/plain": [
       "<Figure size 432x288 with 1 Axes>"
      ]
     },
     "metadata": {
      "needs_background": "light"
     },
     "output_type": "display_data"
    }
   ],
   "source": [
    "chart_regression(cnn_model_pred.flatten(),y_test_cnn)"
   ]
  },
  {
   "cell_type": "code",
   "execution_count": 59,
   "metadata": {},
   "outputs": [
    {
     "data": {
      "image/png": "[encoded data removed]",
      "text/plain": [
       "<Figure size 432x288 with 1 Axes>"
      ]
     },
     "metadata": {
      "needs_background": "light"
     },
     "output_type": "display_data"
    }
   ],
   "source": [
    "chart_regression(cnn_model_pred.flatten(),y_test_cnn,sort=False)"
   ]
  },
  {
   "cell_type": "code",
   "execution_count": 60,
   "metadata": {},
   "outputs": [
    {
     "name": "stdout",
     "output_type": "stream",
     "text": [
      "R2 score 0.9975626513768059\n"
     ]
    }
   ],
   "source": [
    "print(\"R2 score\",metrics.r2_score(y_test_cnn,cnn_model_pred))"
   ]
  },
  {
   "cell_type": "markdown",
   "metadata": {},
   "source": [
    "## Additional Features"
   ]
  },
  {
   "cell_type": "markdown",
   "metadata": {},
   "source": [
    "#### Best value for number of days (N) we should consider in past for LSTM."
   ]
  },
  {
   "cell_type": "markdown",
   "metadata": {},
   "source": [
    "### N=3"
   ]
  },
  {
   "cell_type": "code",
   "execution_count": null,
   "metadata": {},
   "outputs": [],
   "source": [
    "x_model_3,y_model_3 = to_sequences(3, data_df, data_close)"
   ]
  },
  {
   "cell_type": "code",
   "execution_count": null,
   "metadata": {},
   "outputs": [],
   "source": [
    "x_train_lstm,x_test_lstm,y_train_lstm,y_test_lstm = train_test_split(x_model_3,y_model_3, test_size=0.3, random_state =42)\n",
    "print(\"Shape of x_train: {}\".format(x_train_lstm.shape))\n",
    "print(\"Shape of x_test: {}\".format(x_test_lstm.shape))\n",
    "print(\"Shape of y_train: {}\".format(y_train_lstm.shape))\n",
    "print(\"Shape of y_test: {}\".format(y_test_lstm.shape))"
   ]
  },
  {
   "cell_type": "code",
   "execution_count": null,
   "metadata": {},
   "outputs": [],
   "source": [
    "#checkpointer\n",
    "checkpointer = ModelCheckpoint(filepath=\"best_weights_lstm.hdf5\", verbose=0, save_best_only=True) # save best model\n",
    "\n",
    "model = Sequential()\n",
    "model.add(LSTM(100, dropout=0.1, recurrent_dropout=0.1,input_shape=(3, 5)))\n",
    "model.add(Dense(50))\n",
    "model.add(Dense(1))\n",
    "model.compile(loss='mean_squared_error', optimizer='adam')\n",
    "monitor = EarlyStopping(monitor='val_loss', min_delta=1e-3, patience=5, verbose=1, mode='auto')\n",
    "print('Train...')\n",
    "model.fit(x_train_lstm,y_train_lstm,validation_data=(x_test_lstm,y_test_lstm),callbacks=[monitor,checkpointer],verbose=2, epochs=1000) \n"
   ]
  },
  {
   "cell_type": "code",
   "execution_count": null,
   "metadata": {},
   "outputs": [],
   "source": [
    "model.load_weights('best_weights_lstm.hdf5')\n",
    "pred = model.predict(x_test_lstm)\n",
    "score = np.sqrt(metrics.mean_squared_error(pred,y_test_lstm))\n",
    "print(\"RMSE         : {}\".format(score))\n",
    "print(\"MSE          :\", metrics.mean_squared_error(y_test_lstm, pred))\n",
    "print(\"R2 score     :\",metrics.r2_score(y_test_lstm,pred))\n",
    "# Plot the chart\n",
    "chart_regression(pred.flatten(),y_test_lstm)"
   ]
  },
  {
   "cell_type": "code",
   "execution_count": null,
   "metadata": {},
   "outputs": [],
   "source": [
    "chart_regression(pred.flatten(),y_test_lstm,sort=False)"
   ]
  },
  {
   "cell_type": "markdown",
   "metadata": {},
   "source": [
    "### N = 5"
   ]
  },
  {
   "cell_type": "code",
   "execution_count": null,
   "metadata": {},
   "outputs": [],
   "source": [
    "x_model_5,y_model_5 = to_sequences(5, data_df, data_close)"
   ]
  },
  {
   "cell_type": "code",
   "execution_count": null,
   "metadata": {},
   "outputs": [],
   "source": [
    "x_train_lstm,x_test_lstm,y_train_lstm,y_test_lstm = train_test_split(x_model_5,y_model_5, test_size=0.3, random_state =42)\n",
    "print(\"Shape of x_train: {}\".format(x_train_lstm.shape))\n",
    "print(\"Shape of x_test: {}\".format(x_test_lstm.shape))\n",
    "print(\"Shape of y_train: {}\".format(y_train_lstm.shape))\n",
    "print(\"Shape of y_test: {}\".format(y_test_lstm.shape))"
   ]
  },
  {
   "cell_type": "code",
   "execution_count": null,
   "metadata": {},
   "outputs": [],
   "source": [
    "#checkpointer\n",
    "checkpointer = ModelCheckpoint(filepath=\"best_weights_lstm.hdf5\", verbose=0, save_best_only=True) # save best model\n",
    "\n",
    "model = Sequential()\n",
    "model.add(LSTM(100, dropout=0.1, recurrent_dropout=0.1,input_shape=(5, 5)))\n",
    "model.add(Dense(50))\n",
    "model.add(Dense(1))\n",
    "model.compile(loss='mean_squared_error', optimizer='adam')\n",
    "monitor = EarlyStopping(monitor='val_loss', min_delta=1e-3, patience=5, verbose=1, mode='auto')\n",
    "print('Train...')\n",
    "model.fit(x_train_lstm,y_train_lstm,validation_data=(x_test_lstm,y_test_lstm),callbacks=[monitor,checkpointer],verbose=2, epochs=1000) \n",
    "\n"
   ]
  },
  {
   "cell_type": "code",
   "execution_count": null,
   "metadata": {},
   "outputs": [],
   "source": [
    "model.load_weights('best_weights_lstm.hdf5')\n",
    "pred = model.predict(x_test_lstm)\n",
    "score = np.sqrt(metrics.mean_squared_error(pred,y_test_lstm))\n",
    "print(\"RMSE         : {}\".format(score))\n",
    "print(\"MSE          :\", metrics.mean_squared_error(y_test_lstm, pred))\n",
    "print(\"R2 score     :\",metrics.r2_score(y_test_lstm,pred))\n",
    "# Plot the chart\n",
    "chart_regression(pred.flatten(),y_test_lstm)"
   ]
  },
  {
   "cell_type": "code",
   "execution_count": null,
   "metadata": {},
   "outputs": [],
   "source": [
    "chart_regression(pred.flatten(),y_test_lstm,sort=False)"
   ]
  },
  {
   "cell_type": "markdown",
   "metadata": {},
   "source": [
    "### N = 10"
   ]
  },
  {
   "cell_type": "code",
   "execution_count": null,
   "metadata": {},
   "outputs": [],
   "source": [
    "x_model_10,y_model_10 = to_sequences(10, data_df, data_close)"
   ]
  },
  {
   "cell_type": "code",
   "execution_count": null,
   "metadata": {},
   "outputs": [],
   "source": [
    "x_train_lstm,x_test_lstm,y_train_lstm,y_test_lstm = train_test_split(x_model_10,y_model_10, test_size=0.3, random_state =42)\n",
    "print(\"Shape of x_train: {}\".format(x_train_lstm.shape))\n",
    "print(\"Shape of x_test: {}\".format(x_test_lstm.shape))\n",
    "print(\"Shape of y_train: {}\".format(y_train_lstm.shape))\n",
    "print(\"Shape of y_test: {}\".format(y_test_lstm.shape))"
   ]
  },
  {
   "cell_type": "code",
   "execution_count": null,
   "metadata": {},
   "outputs": [],
   "source": [
    "#checkpointer\n",
    "checkpointer = ModelCheckpoint(filepath=\"best_weights_lstm.hdf5\", verbose=0, save_best_only=True) # save best model\n",
    "\n",
    "model = Sequential()\n",
    "model.add(LSTM(100, dropout=0.1, recurrent_dropout=0.1,input_shape=(10, 5)))\n",
    "model.add(Dense(50))\n",
    "model.add(Dense(1))\n",
    "model.compile(loss='mean_squared_error', optimizer='adam')\n",
    "monitor = EarlyStopping(monitor='val_loss', min_delta=1e-3, patience=5, verbose=1, mode='auto')\n",
    "print('Train...')\n",
    "model.fit(x_train_lstm,y_train_lstm,validation_data=(x_test_lstm,y_test_lstm),callbacks=[monitor,checkpointer],verbose=2, epochs=1000) \n",
    "\n",
    "\n"
   ]
  },
  {
   "cell_type": "code",
   "execution_count": null,
   "metadata": {},
   "outputs": [],
   "source": [
    "model.load_weights('best_weights_lstm.hdf5')\n",
    "pred = model.predict(x_test_lstm)\n",
    "score = np.sqrt(metrics.mean_squared_error(pred,y_test_lstm))\n",
    "print(\"RMSE         : {}\".format(score))\n",
    "print(\"MSE          :\", metrics.mean_squared_error(y_test_lstm, pred))\n",
    "print(\"R2 score     :\",metrics.r2_score(y_test_lstm,pred))\n",
    "# Plot the chart\n",
    "chart_regression(pred.flatten(),y_test_lstm)"
   ]
  },
  {
   "cell_type": "code",
   "execution_count": null,
   "metadata": {},
   "outputs": [],
   "source": [
    "chart_regression(pred.flatten(),y_test_lstm,sort=False)"
   ]
  },
  {
   "cell_type": "markdown",
   "metadata": {},
   "source": [
    "### N = 20"
   ]
  },
  {
   "cell_type": "code",
   "execution_count": null,
   "metadata": {},
   "outputs": [],
   "source": [
    "x_model_20,y_model_20 = to_sequences(20, data_df, data_close)"
   ]
  },
  {
   "cell_type": "code",
   "execution_count": null,
   "metadata": {},
   "outputs": [],
   "source": [
    "x_train_lstm,x_test_lstm,y_train_lstm,y_test_lstm = train_test_split(x_model_20,y_model_20, test_size=0.3, random_state =42)\n",
    "print(\"Shape of x_train: {}\".format(x_train_lstm.shape))\n",
    "print(\"Shape of x_test: {}\".format(x_test_lstm.shape))\n",
    "print(\"Shape of y_train: {}\".format(y_train_lstm.shape))\n",
    "print(\"Shape of y_test: {}\".format(y_test_lstm.shape))"
   ]
  },
  {
   "cell_type": "code",
   "execution_count": null,
   "metadata": {},
   "outputs": [],
   "source": [
    "#checkpointer\n",
    "checkpointer = ModelCheckpoint(filepath=\"best_weights_lstm.hdf5\", verbose=0, save_best_only=True) # save best model\n",
    "\n",
    "model = Sequential()\n",
    "model.add(LSTM(100, dropout=0.1, recurrent_dropout=0.1,input_shape=(20, 5)))\n",
    "model.add(Dense(50))\n",
    "model.add(Dense(1))\n",
    "model.compile(loss='mean_squared_error', optimizer='adam')\n",
    "monitor = EarlyStopping(monitor='val_loss', min_delta=1e-3, patience=5, verbose=1, mode='auto')\n",
    "print('Train...')\n",
    "model.fit(x_train_lstm,y_train_lstm,validation_data=(x_test_lstm,y_test_lstm),callbacks=[monitor,checkpointer],verbose=2, epochs=1000) \n",
    "\n",
    "\n"
   ]
  },
  {
   "cell_type": "code",
   "execution_count": null,
   "metadata": {},
   "outputs": [],
   "source": [
    "model.load_weights('best_weights_lstm.hdf5')\n",
    "pred = model.predict(x_test_lstm)\n",
    "score = np.sqrt(metrics.mean_squared_error(pred,y_test_lstm))\n",
    "print(\"RMSE         : {}\".format(score))\n",
    "print(\"MSE          :\", metrics.mean_squared_error(y_test_lstm, pred))\n",
    "print(\"R2 score     :\",metrics.r2_score(y_test_lstm,pred))\n",
    "# Plot the chart\n",
    "chart_regression(pred.flatten(),y_test_lstm)"
   ]
  },
  {
   "cell_type": "code",
   "execution_count": null,
   "metadata": {},
   "outputs": [],
   "source": [
    "chart_regression(pred.flatten(),y_test_lstm,sort=False)"
   ]
  },
  {
   "cell_type": "markdown",
   "metadata": {},
   "source": [
    " 2) As an additional feature predict the stock prices for next 5 days and have comapared the True price and predicted price.\n",
    "\n",
    "### Methodology \n",
    "\n",
    "1. We have performed the following steps, \n",
    "2. Data cleaning\n",
    "3. Data Preprocessing  \n",
    "5. EDA - Exploratory Data Analysis \n",
    "6. Model Training\n",
    "7. Result Analysis\n",
    "</pre>"
   ]
  },
  {
   "cell_type": "code",
   "execution_count": null,
   "metadata": {},
   "outputs": [],
   "source": [
    "from keras.models import Sequential\n",
    "from keras.layers import Dense, LSTM\n",
    "from numpy import array\n",
    "from numpy.random import uniform\n",
    "from numpy import hstack\n",
    "import matplotlib.pyplot as plt\n",
    "from sklearn.model_selection import train_test_split\n",
    "from sklearn.metrics import mean_squared_error"
   ]
  },
  {
   "cell_type": "code",
   "execution_count": null,
   "metadata": {},
   "outputs": [],
   "source": [
    "df = pd.read_csv('CSC215_P2_Stock_Price.csv')"
   ]
  },
  {
   "cell_type": "code",
   "execution_count": null,
   "metadata": {},
   "outputs": [],
   "source": [
    "df.drop(['Date','Adj_Close'], axis=1, inplace=True)"
   ]
  },
  {
   "cell_type": "code",
   "execution_count": null,
   "metadata": {},
   "outputs": [],
   "source": [
    "df = df.dropna()"
   ]
  },
  {
   "cell_type": "code",
   "execution_count": null,
   "metadata": {},
   "outputs": [],
   "source": [
    "import matplotlib.pyplot as plt"
   ]
  },
  {
   "cell_type": "code",
   "execution_count": null,
   "metadata": {},
   "outputs": [],
   "source": [
    "plt.figure(figsize=(16,8))\n",
    "plt.title('Stock_Price_Prediction', fontsize = 18)\n",
    "plt.xlabel('Days', fontsize= 18)\n",
    "plt.ylabel('Close Price USD ($)', fontsize = 18)\n",
    "plt.plot(df['Close'])\n",
    "plt.show()"
   ]
  },
  {
   "cell_type": "code",
   "execution_count": null,
   "metadata": {},
   "outputs": [],
   "source": [
    "df"
   ]
  },
  {
   "cell_type": "code",
   "execution_count": null,
   "metadata": {},
   "outputs": [],
   "source": [
    "next_days = 5"
   ]
  },
  {
   "cell_type": "code",
   "execution_count": null,
   "metadata": {},
   "outputs": [],
   "source": [
    "df['Prediction'] = df['Close'].shift(-next_days)"
   ]
  },
  {
   "cell_type": "code",
   "execution_count": null,
   "metadata": {},
   "outputs": [],
   "source": [
    "df.sample(5)"
   ]
  },
  {
   "cell_type": "code",
   "execution_count": null,
   "metadata": {},
   "outputs": [],
   "source": [
    "x = np.array(df.drop(['Prediction', 'Open', 'High', 'Low', 'Volume'], 1))[:-next_days]\n",
    "print(x)"
   ]
  },
  {
   "cell_type": "code",
   "execution_count": null,
   "metadata": {},
   "outputs": [],
   "source": [
    "y = np.array(df['Prediction'])[:-next_days]\n",
    "print(y)"
   ]
  },
  {
   "cell_type": "code",
   "execution_count": null,
   "metadata": {},
   "outputs": [],
   "source": [
    "x = x.reshape(x.shape[0], x.shape[1], 1)\n",
    "print(\"x:\", x.shape, \"y:\", y.shape)"
   ]
  },
  {
   "cell_type": "code",
   "execution_count": null,
   "metadata": {},
   "outputs": [],
   "source": [
    "y = y.reshape(y.shape[0], 1)"
   ]
  },
  {
   "cell_type": "code",
   "execution_count": null,
   "metadata": {},
   "outputs": [],
   "source": [
    "in_dim = (x.shape[1], x.shape[2])\n",
    "out_dim = y.shape[1]"
   ]
  },
  {
   "cell_type": "code",
   "execution_count": null,
   "metadata": {},
   "outputs": [],
   "source": [
    "xtrain, xtest, ytrain, ytest=train_test_split(x, y, test_size=0.30)"
   ]
  },
  {
   "cell_type": "code",
   "execution_count": null,
   "metadata": {},
   "outputs": [],
   "source": [
    "model = Sequential()\n",
    "model.add(LSTM(64, input_shape=in_dim, activation=\"relu\"))\n",
    "model.add(Dense(out_dim))\n",
    "model.compile(loss=\"mse\", optimizer=\"adam\") \n",
    "model.summary()"
   ]
  },
  {
   "cell_type": "code",
   "execution_count": null,
   "metadata": {},
   "outputs": [],
   "source": [
    "model.fit(xtrain, ytrain, epochs=100, batch_size=12, verbose=0)"
   ]
  },
  {
   "cell_type": "code",
   "execution_count": null,
   "metadata": {},
   "outputs": [],
   "source": [
    "ypred = model.predict(xtest)"
   ]
  },
  {
   "cell_type": "code",
   "execution_count": null,
   "metadata": {},
   "outputs": [],
   "source": [
    "ytest[:]"
   ]
  },
  {
   "cell_type": "code",
   "execution_count": null,
   "metadata": {},
   "outputs": [],
   "source": [
    "print(\"MSE:%.4f\" % mean_squared_error(ytest[:,0], ypred[:,0]))\n"
   ]
  },
  {
   "cell_type": "code",
   "execution_count": null,
   "metadata": {},
   "outputs": [],
   "source": [
    "x_ax = range(len(xtest))\n",
    "plt.title(\"LSTM multi-output prediction\")\n",
    "plt.scatter(x_ax, ytest[:,0],  s=6, label=\"y1-test\")\n",
    "plt.plot(x_ax, ypred[:,0], label=\"y1-pred\")\n",
    "plt.scatter(x_ax, ytest[:],  s=6, label=\"y2-test\")\n",
    "plt.plot(x_ax, ypred[:], label=\"y2-pred\")\n",
    "plt.legend()\n",
    "plt.show()"
   ]
  },
  {
   "cell_type": "markdown",
   "metadata": {},
   "source": [
    " 3) As an additional feature we have selected two companies Google and Tesla for analysing stock prices.We have planned on analysing stock prices from 2010 to 2020.\n",
    "\n",
    "### Methodology \n",
    "\n",
    "1. We have performed the following steps, \n",
    "2. Data cleaning\n",
    "3. Data Preprocessing \n",
    "4. Normalization \n",
    "5. EDA - Exploratory Data Analysis \n",
    "6. Model Training\n",
    "7. Result Analysis\n",
    "</pre>"
   ]
  },
  {
   "cell_type": "code",
   "execution_count": null,
   "metadata": {},
   "outputs": [],
   "source": [
    "g_data_df = pd.read_csv('GOOG.csv')\n",
    "a_data_df = pd.read_csv('AAPL.csv')\n"
   ]
  },
  {
   "cell_type": "code",
   "execution_count": null,
   "metadata": {},
   "outputs": [],
   "source": [
    "g_data_df.head(5)"
   ]
  },
  {
   "cell_type": "code",
   "execution_count": null,
   "metadata": {},
   "outputs": [],
   "source": [
    "a_data_df.head(5)"
   ]
  },
  {
   "cell_type": "code",
   "execution_count": null,
   "metadata": {},
   "outputs": [],
   "source": [
    "print(g_data_df.shape)\n",
    "print(a_data_df.shape)"
   ]
  },
  {
   "cell_type": "code",
   "execution_count": null,
   "metadata": {},
   "outputs": [],
   "source": [
    "print('Number of missing values:')\n",
    "[(x, y) for x, y in zip(a_data_df.isna().sum(), a_data_df.isna().sum().index) if x > 0]\n",
    "\n",
    "print('Number of missing values:')\n",
    "[(x, y) for x, y in zip(g_data_df.isna().sum(), g_data_df.isna().sum().index) if x > 0]"
   ]
  },
  {
   "cell_type": "code",
   "execution_count": null,
   "metadata": {},
   "outputs": [],
   "source": [
    "g_data_df = g_data_df.drop_duplicates(keep='first', inplace=False) \n",
    "a_data_df = a_data_df.drop_duplicates(keep='first', inplace=False) "
   ]
  },
  {
   "cell_type": "code",
   "execution_count": null,
   "metadata": {},
   "outputs": [],
   "source": [
    "g_data_df.drop(['Date','Adj Close'], axis=1, inplace=True)\n",
    "a_data_df.drop(['Date','Adj Close'], axis=1, inplace=True)"
   ]
  },
  {
   "cell_type": "code",
   "execution_count": null,
   "metadata": {},
   "outputs": [],
   "source": [
    "print(g_data_df.shape)\n",
    "print(a_data_df.shape)"
   ]
  },
  {
   "cell_type": "code",
   "execution_count": null,
   "metadata": {},
   "outputs": [],
   "source": [
    "a_stock_close = a_data_df['Close'].tolist()\n",
    "g_stock_close = g_data_df['Close'].tolist()"
   ]
  },
  {
   "cell_type": "markdown",
   "metadata": {},
   "source": [
    "## Normalization - Using MinMax Scaler sklearn"
   ]
  },
  {
   "cell_type": "code",
   "execution_count": null,
   "metadata": {},
   "outputs": [],
   "source": [
    "from sklearn.preprocessing import MinMaxScaler\n",
    "scaler = MinMaxScaler(feature_range=(0, 1))\n",
    "a_data_df = scaler.fit_transform(a_data_df)\n",
    "g_data_df = scaler.fit_transform(g_data_df)"
   ]
  },
  {
   "cell_type": "code",
   "execution_count": null,
   "metadata": {},
   "outputs": [],
   "source": [
    "print(\"Apple stock\")\n",
    "print(a_data_df)\n",
    "\n",
    "print(\"Google stock\")\n",
    "print(g_data_df)"
   ]
  },
  {
   "cell_type": "code",
   "execution_count": null,
   "metadata": {},
   "outputs": [],
   "source": [
    "def to_sequences(seq_size, data1, data2):\n",
    "    x = []\n",
    "    y = []\n",
    "\n",
    "    for i in range(len(data1)-seq_size-1):\n",
    "        #print(i)\n",
    "        window = data1[i:(i+seq_size)]\n",
    "        after_window = data2[i+seq_size]\n",
    "        x.append(window)\n",
    "        y.append(after_window)\n",
    "        \n",
    "    return np.array(x), np.array(y)"
   ]
  },
  {
   "cell_type": "code",
   "execution_count": null,
   "metadata": {},
   "outputs": [],
   "source": [
    "x_a,y_a = to_sequences(7, a_data_df, a_stock_close)\n",
    "x_g,y_g = to_sequences(7, g_data_df, g_stock_close)\n",
    "print(\"Shape of x(AAPL): {}\".format(x_a.shape))\n",
    "print(\"Shape of y(AAPL): {}\".format(y_a.shape))\n",
    "print(\"Shape of x(GOOG): {}\".format(x_g.shape))\n",
    "print(\"Shape of y(GOOG): {}\".format(y_g.shape))"
   ]
  },
  {
   "cell_type": "code",
   "execution_count": null,
   "metadata": {},
   "outputs": [],
   "source": [
    "\n",
    "X_train_a, X_test_a, y_train_a, y_test_a = train_test_split(x_a, y_a, test_size=0.5, random_state=42)\n",
    "X_train_g, X_test_g, y_train_g, y_test_g = train_test_split(x_g, y_g, test_size=0.5, random_state=42)\n",
    "\n",
    "print(X_train_a.shape, X_test_a.shape, y_train_a.shape, y_test_a.shape)\n",
    "print(X_train_g.shape, X_test_g.shape, y_train_g.shape, y_test_g.shape)"
   ]
  },
  {
   "cell_type": "code",
   "execution_count": null,
   "metadata": {},
   "outputs": [],
   "source": [
    "X_tr_a= X_train_a.reshape(1237,7*5)\n",
    "X_te_a= X_test_a.reshape(1237,7*5)\n",
    "X_tr_g= X_train_g.reshape(1237,7*5)\n",
    "X_te_g= X_test_g.reshape(1237,7*5)"
   ]
  },
  {
   "cell_type": "markdown",
   "metadata": {},
   "source": [
    "##  Model Training - AAPL \n",
    "\n",
    "<pre> Using Bidirectional LSTM </pre>"
   ]
  },
  {
   "cell_type": "code",
   "execution_count": null,
   "metadata": {},
   "outputs": [],
   "source": [
    "from tensorflow.keras.layers import LSTM\n",
    "from tensorflow.keras.layers import Conv2D, MaxPooling2D\n",
    "from keras.layers import Bidirectional\n",
    "model = Sequential()\n",
    "look_back=5;\n",
    "# create and fit the LSTM network\n",
    "model.add(Bidirectional(LSTM(64),input_shape=(7,look_back)))\n",
    "model.add(Dense(32, activation='relu'))\n",
    "model.add(Dense(1))\n",
    "\n"
   ]
  },
  {
   "cell_type": "code",
   "execution_count": null,
   "metadata": {},
   "outputs": [],
   "source": [
    "model.compile(loss='mean_squared_error', optimizer='adam')\n",
    "monitor = EarlyStopping(monitor='val_loss', min_delta=1e-3, patience=50, verbose=1, mode='auto')\n",
    "#checkpointer = ModelCheckpoint(filepath=\"best_weights.hdf5\", verbose=0, save_best_only=True) # save best model\n",
    "\n",
    "model.fit(X_train_a, y_train_a,validation_data=(X_test_a,y_test_a),callbacks=[monitor],verbose=2,epochs=1000)\n",
    "\n"
   ]
  },
  {
   "cell_type": "code",
   "execution_count": null,
   "metadata": {},
   "outputs": [],
   "source": [
    "# For AAPL dataset\n",
    "pred_train = model.predict(X_train_a)\n",
    "score_train = np.sqrt(metrics.mean_squared_error(pred_train,y_train_a))\n",
    "pred_test = model.predict(X_test_a)\n",
    "score_test = np.sqrt(metrics.mean_squared_error(pred_test,y_test_a))\n",
    "print(\"Score_train (RMSE): {}\".format(score_train))\n",
    "print(\"Score_test (RMSE): {}\".format(score_test))\n",
    "\n",
    "#chart_regression(pred.flatten(),y_lstm_seq_test, sort=True)\n",
    "chart_regression(pred_train.flatten(),y_train_a, sort=True)\n",
    "chart_regression(pred_test.flatten(),y_test_a, sort=False)"
   ]
  },
  {
   "cell_type": "code",
   "execution_count": null,
   "metadata": {},
   "outputs": [],
   "source": [
    "print(\"R2 score\",metrics.r2_score(y_test_a,pred_test))"
   ]
  },
  {
   "cell_type": "markdown",
   "metadata": {},
   "source": [
    "###  Plot analysis on Actual and Predicted For AAPL"
   ]
  },
  {
   "cell_type": "code",
   "execution_count": null,
   "metadata": {},
   "outputs": [],
   "source": [
    "plt.figure(figsize=(15,5))\n",
    "x = np.arange(1,50)\n",
    "plt.plot(x,y_test_a[:49], '-o', label='Actual',color ='blue')\n",
    "plt.plot(x, pred_test[:49], ':o', label='Predicted',color = 'red',linewidth = 1)\n",
    "\n",
    "plt.legend()"
   ]
  },
  {
   "cell_type": "code",
   "execution_count": null,
   "metadata": {},
   "outputs": [],
   "source": [
    "df_y = pd.DataFrame(y_test_a, columns=['ground_truth'])\n",
    "df_pred = pd.DataFrame(pred_test, columns=['predicted'])\n",
    "result = pd.concat([df_y, df_pred],axis=1)\n",
    "result"
   ]
  },
  {
   "cell_type": "markdown",
   "metadata": {},
   "source": [
    "###  Scatter Plot analysis on true and predicted - AAPL"
   ]
  },
  {
   "cell_type": "code",
   "execution_count": null,
   "metadata": {},
   "outputs": [],
   "source": [
    "from sklearn.metrics import mean_squared_error, r2_score\n",
    "plt.scatter(y_test_a, pred_test, color='black')\n",
    "plt.title('Comparing true and predicted values for test set')\n",
    "plt.xlabel('True values for y')\n",
    "plt.ylabel('Predicted values for y')\n",
    "\n",
    "# Model evaluation\n",
    "print(\"Root mean squared error = %.4f\" % np.sqrt(mean_squared_error(y_test_a, pred_test)))\n",
    "print('R-squared = %.4f' % r2_score(y_test_a, pred_test))"
   ]
  },
  {
   "cell_type": "markdown",
   "metadata": {},
   "source": [
    "## Model training 2\n",
    "\n",
    "<pre> Using Bidirectional LSTM </pre>"
   ]
  },
  {
   "cell_type": "code",
   "execution_count": null,
   "metadata": {},
   "outputs": [],
   "source": [
    "#checkpointer = ModelCheckpoint(filepath=\"best_weights.hdf5\", verbose=0, save_best_only=True) # save best model\n",
    "\n",
    "model.fit(X_train_g, y_train_g,validation_data=(X_test_g,y_test_g),callbacks=[monitor],verbose=2,epochs=1000)"
   ]
  },
  {
   "cell_type": "code",
   "execution_count": null,
   "metadata": {},
   "outputs": [],
   "source": [
    "# For GOOG dataset\n",
    "pred_train = model.predict(X_train_g)\n",
    "score_train = np.sqrt(metrics.mean_squared_error(pred_train,y_train_g))\n",
    "pred_test_g = model.predict(X_test_g)\n",
    "score_test = np.sqrt(metrics.mean_squared_error(pred_test_g,y_test_g))\n",
    "print(\"Score_train (RMSE): {}\".format(score_train))\n",
    "print(\"Score_test (RMSE): {}\".format(score_test))\n",
    "\n",
    "#chart_regression(pred.flatten(),y_lstm_seq_test, sort=True)\n",
    "chart_regression(pred_train.flatten(),y_train_g, sort=True)\n",
    "chart_regression(pred_test_g.flatten(),y_test_g, sort=False)"
   ]
  },
  {
   "cell_type": "code",
   "execution_count": null,
   "metadata": {},
   "outputs": [],
   "source": [
    "print(\"R2 score\",metrics.r2_score(y_test_g,pred_test_g))"
   ]
  },
  {
   "cell_type": "markdown",
   "metadata": {},
   "source": [
    "### Plot analysis on Actual and Predicted For AAPL"
   ]
  },
  {
   "cell_type": "code",
   "execution_count": null,
   "metadata": {},
   "outputs": [],
   "source": [
    "plt.plot(x,y_test_g[:49], '-o', label='Actual',color ='blue')\n",
    "plt.plot(x, pred_test_g[:49], ':o', label='Predicted',color = 'red',linewidth = 1)\n",
    "\n",
    "plt.legend()"
   ]
  },
  {
   "cell_type": "code",
   "execution_count": null,
   "metadata": {},
   "outputs": [],
   "source": [
    "df_y = pd.DataFrame(y_test_g, columns=['ground_truth'])\n",
    "df_pred = pd.DataFrame(pred_test_g, columns=['predicted'])\n",
    "result = pd.concat([df_y, df_pred],axis=1)\n",
    "result"
   ]
  },
  {
   "cell_type": "markdown",
   "metadata": {},
   "source": [
    "### Scatter Plot analysis on true and predicted - GOOG"
   ]
  },
  {
   "cell_type": "code",
   "execution_count": null,
   "metadata": {},
   "outputs": [],
   "source": [
    "from sklearn.metrics import mean_squared_error, r2_score\n",
    "plt.scatter(y_test_g, pred_test_g, color='black')\n",
    "plt.title('Comparing true and predicted values for test set')\n",
    "plt.xlabel('True values for y')\n",
    "plt.ylabel('Predicted values for y')\n",
    "\n",
    "# Model evaluation\n",
    "print(\"Root mean squared error = %.4f\" % np.sqrt(mean_squared_error(y_test_g, pred_test_g)))\n",
    "print('R-squared = %.4f' % r2_score(y_test_g, pred_test_g))"
   ]
  },
  {
   "cell_type": "code",
   "execution_count": null,
   "metadata": {},
   "outputs": [],
   "source": []
  }
 ],
 "metadata": {
  "kernelspec": {
   "display_name": "Python 3",
   "language": "python",
   "name": "python3"
  },
  "language_info": {
   "codemirror_mode": {
    "name": "ipython",
    "version": 3
   },
   "file_extension": ".py",
   "mimetype": "text/x-python",
   "name": "python",
   "nbconvert_exporter": "python",
   "pygments_lexer": "ipython3",
   "version": "3.8.3"
  }
 },
 "nbformat": 4,
 "nbformat_minor": 2
}
